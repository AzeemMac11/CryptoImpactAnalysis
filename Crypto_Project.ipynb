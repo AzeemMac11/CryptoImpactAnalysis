{
 "cells": [
  {
   "cell_type": "code",
   "execution_count": 1,
   "id": "11105b92",
   "metadata": {},
   "outputs": [],
   "source": [
    "import pandas as pd\n",
    "import numpy as np\n",
    "import seaborn as sns\n",
    "import matplotlib.pyplot as plt\n",
    "from sklearn.model_selection import train_test_split\n",
    "from sklearn.metrics import accuracy_score\n",
    "from sklearn.metrics import classification_report\n",
    "import re\n",
    "import string"
   ]
  },
  {
   "cell_type": "code",
   "execution_count": 2,
   "id": "81ecb5e2",
   "metadata": {},
   "outputs": [],
   "source": [
    "from sklearn import preprocessing\n",
    "from sklearn import utils"
   ]
  },
  {
   "cell_type": "code",
   "execution_count": 3,
   "id": "c20d0973",
   "metadata": {},
   "outputs": [],
   "source": [
    "from sklearn.feature_extraction.text import TfidfVectorizer"
   ]
  },
  {
   "cell_type": "code",
   "execution_count": 4,
   "id": "56ba29ba",
   "metadata": {},
   "outputs": [],
   "source": [
    "from sklearn.linear_model import LinearRegression"
   ]
  },
  {
   "cell_type": "code",
   "execution_count": 5,
   "id": "f227c1cc",
   "metadata": {},
   "outputs": [],
   "source": [
    "from sklearn.tree import DecisionTreeRegressor"
   ]
  },
  {
   "cell_type": "code",
   "execution_count": 6,
   "id": "0629818c",
   "metadata": {},
   "outputs": [],
   "source": [
    "from sklearn.linear_model import SGDRegressor"
   ]
  },
  {
   "cell_type": "code",
   "execution_count": 7,
   "id": "480ff866",
   "metadata": {},
   "outputs": [],
   "source": [
    "from sklearn.linear_model import BayesianRidge"
   ]
  },
  {
   "cell_type": "code",
   "execution_count": null,
   "id": "a7a48489",
   "metadata": {},
   "outputs": [],
   "source": []
  },
  {
   "cell_type": "code",
   "execution_count": 99,
   "id": "9b2fd822",
   "metadata": {},
   "outputs": [],
   "source": [
    "import matplotlib\n",
    "%matplotlib inline\n",
    "import numpy as np\n",
    "import pandas as pd\n",
    "from matplotlib import pyplot as plt\n",
    "import sklearn.datasets as data\n",
    "from sklearn import metrics\n",
    "\n",
    "dataset = pd.read_csv('crypto.csv')\n",
    "price  = dataset['quote_usd_price']\n",
    "cap  = dataset['quote_usd_market_cap']\n",
    "\n",
    "# .load(return_X_y=True)  # returns data to be used in estimator\n",
    "# X is the data, y are the targets:\n",
    "#print(\"data has shape {}, targets have shape {}.\".format(X.shape, y.shape))\n"
   ]
  },
  {
   "cell_type": "code",
   "execution_count": null,
   "id": "11a9f0b3",
   "metadata": {},
   "outputs": [],
   "source": [
    "from sklearn import datasets    \n",
    "\n",
    "#boston = datasets.load_boston() \n",
    "crypto = datasets.load_crypto()\n"
   ]
  },
  {
   "cell_type": "code",
   "execution_count": null,
   "id": "6f79a3e1",
   "metadata": {},
   "outputs": [],
   "source": [
    "X_train = crypto.data[:450]  #define training X set                                                                                                                           \n",
    "y_train = crypto.target[:450] #define training y set                                                                                                                          \n",
    "\n",
    "X_test = crypto.data[450:]  #define test X set                                                                                                                                \n",
    "y_test = crypto.target[450:] #define test y set                                                                                                                               \n",
    "\n",
    "lin = linear_model.LinearRegression() #initialize regressor                                                                                                                   \n",
    "\n",
    "lin.fit(X_train, y_train) #fit training data                                                                                                                                  \n",
    "preds = lin.predict(X_test) #make prediction on X test set                                                                                                                    \n",
    "\n",
    "print metrics.mean_absolute_error(y_test, preds)"
   ]
  },
  {
   "cell_type": "code",
   "execution_count": 79,
   "id": "cb00ad06",
   "metadata": {},
   "outputs": [
    {
     "name": "stdout",
     "output_type": "stream",
     "text": [
      "<class 'pandas.core.frame.DataFrame'>\n",
      "RangeIndex: 100 entries, 0 to 99\n",
      "Data columns (total 30 columns):\n",
      " #   Column                              Non-Null Count  Dtype  \n",
      "---  ------                              --------------  -----  \n",
      " 0   id                                  100 non-null    int64  \n",
      " 1   name                                100 non-null    object \n",
      " 2   symbol                              100 non-null    object \n",
      " 3   slug                                100 non-null    object \n",
      " 4   num_market_pairs                    100 non-null    int64  \n",
      " 5   date_added                          100 non-null    object \n",
      " 6   max_supply                          60 non-null     float64\n",
      " 7   circulating_supply                  100 non-null    float64\n",
      " 8   total_supply                        100 non-null    float64\n",
      " 9   cmc_rank                            100 non-null    int64  \n",
      " 10  last_updated                        100 non-null    object \n",
      " 11  quote_usd_price                     100 non-null    float64\n",
      " 12  quote_usd_volume_24h                100 non-null    float64\n",
      " 13  quote_usd_volume_change_24h         100 non-null    float64\n",
      " 14  quote_usd_percent_change_1h         100 non-null    float64\n",
      " 15  quote_usd_percent_change_24h        100 non-null    float64\n",
      " 16  quote_usd_percent_change_7d         100 non-null    float64\n",
      " 17  quote_usd_percent_change_30d        100 non-null    float64\n",
      " 18  quote_usd_percent_change_60d        100 non-null    float64\n",
      " 19  quote_usd_percent_change_90d        100 non-null    float64\n",
      " 20  quote_usd_market_cap                100 non-null    float64\n",
      " 21  quote_usd_market_cap_dominance      100 non-null    float64\n",
      " 22  quote_usd_fully_diluted_market_cap  100 non-null    float64\n",
      " 23  quote_usd_tvl                       12 non-null     float64\n",
      " 24  quote_usd_last_updated              100 non-null    object \n",
      " 25  platform_id                         48 non-null     float64\n",
      " 26  platform_name                       48 non-null     object \n",
      " 27  platform_symbol                     48 non-null     object \n",
      " 28  platform_slug                       48 non-null     object \n",
      " 29  platform_token_address              48 non-null     object \n",
      "dtypes: float64(17), int64(3), object(10)\n",
      "memory usage: 23.6+ KB\n"
     ]
    }
   ],
   "source": [
    "dataset.info()"
   ]
  },
  {
   "cell_type": "code",
   "execution_count": 80,
   "id": "40b5ca5a",
   "metadata": {},
   "outputs": [
    {
     "data": {
      "text/plain": [
       "100"
      ]
     },
     "execution_count": 80,
     "metadata": {},
     "output_type": "execute_result"
    }
   ],
   "source": [
    "rows = len(dataset)\n",
    "y=rows \n",
    "rows"
   ]
  },
  {
   "cell_type": "code",
   "execution_count": 81,
   "id": "eeac08b7",
   "metadata": {},
   "outputs": [
    {
     "data": {
      "text/plain": [
       "30"
      ]
     },
     "execution_count": 81,
     "metadata": {},
     "output_type": "execute_result"
    }
   ],
   "source": [
    "columns = len(dataset.columns)\n",
    "columns"
   ]
  },
  {
   "cell_type": "code",
   "execution_count": 82,
   "id": "8c4c9e81",
   "metadata": {},
   "outputs": [
    {
     "data": {
      "text/html": [
       "<div>\n",
       "<style scoped>\n",
       "    .dataframe tbody tr th:only-of-type {\n",
       "        vertical-align: middle;\n",
       "    }\n",
       "\n",
       "    .dataframe tbody tr th {\n",
       "        vertical-align: top;\n",
       "    }\n",
       "\n",
       "    .dataframe thead th {\n",
       "        text-align: right;\n",
       "    }\n",
       "</style>\n",
       "<table border=\"1\" class=\"dataframe\">\n",
       "  <thead>\n",
       "    <tr style=\"text-align: right;\">\n",
       "      <th></th>\n",
       "      <th>id</th>\n",
       "      <th>name</th>\n",
       "      <th>symbol</th>\n",
       "      <th>slug</th>\n",
       "      <th>num_market_pairs</th>\n",
       "      <th>date_added</th>\n",
       "      <th>max_supply</th>\n",
       "      <th>circulating_supply</th>\n",
       "      <th>total_supply</th>\n",
       "      <th>cmc_rank</th>\n",
       "      <th>...</th>\n",
       "      <th>quote_usd_market_cap</th>\n",
       "      <th>quote_usd_market_cap_dominance</th>\n",
       "      <th>quote_usd_fully_diluted_market_cap</th>\n",
       "      <th>quote_usd_tvl</th>\n",
       "      <th>quote_usd_last_updated</th>\n",
       "      <th>platform_id</th>\n",
       "      <th>platform_name</th>\n",
       "      <th>platform_symbol</th>\n",
       "      <th>platform_slug</th>\n",
       "      <th>platform_token_address</th>\n",
       "    </tr>\n",
       "  </thead>\n",
       "  <tbody>\n",
       "    <tr>\n",
       "      <th>0</th>\n",
       "      <td>1</td>\n",
       "      <td>Bitcoin</td>\n",
       "      <td>BTC</td>\n",
       "      <td>bitcoin</td>\n",
       "      <td>9620</td>\n",
       "      <td>2013-04-28T00:00:00Z</td>\n",
       "      <td>2.100000e+07</td>\n",
       "      <td>1.909138e+07</td>\n",
       "      <td>1.909138e+07</td>\n",
       "      <td>1</td>\n",
       "      <td>...</td>\n",
       "      <td>3.810000e+11</td>\n",
       "      <td>42.8880</td>\n",
       "      <td>4.190000e+11</td>\n",
       "      <td>NaN</td>\n",
       "      <td>2022-07-12T00:20:00Z</td>\n",
       "      <td>NaN</td>\n",
       "      <td>NaN</td>\n",
       "      <td>NaN</td>\n",
       "      <td>NaN</td>\n",
       "      <td>NaN</td>\n",
       "    </tr>\n",
       "    <tr>\n",
       "      <th>1</th>\n",
       "      <td>1027</td>\n",
       "      <td>Ethereum</td>\n",
       "      <td>ETH</td>\n",
       "      <td>ethereum</td>\n",
       "      <td>5820</td>\n",
       "      <td>2015-08-07T00:00:00Z</td>\n",
       "      <td>NaN</td>\n",
       "      <td>1.215090e+08</td>\n",
       "      <td>1.215090e+08</td>\n",
       "      <td>2</td>\n",
       "      <td>...</td>\n",
       "      <td>1.330000e+11</td>\n",
       "      <td>14.9917</td>\n",
       "      <td>1.330000e+11</td>\n",
       "      <td>NaN</td>\n",
       "      <td>2022-07-12T00:19:00Z</td>\n",
       "      <td>NaN</td>\n",
       "      <td>NaN</td>\n",
       "      <td>NaN</td>\n",
       "      <td>NaN</td>\n",
       "      <td>NaN</td>\n",
       "    </tr>\n",
       "    <tr>\n",
       "      <th>2</th>\n",
       "      <td>825</td>\n",
       "      <td>Tether</td>\n",
       "      <td>USDT</td>\n",
       "      <td>tether</td>\n",
       "      <td>35968</td>\n",
       "      <td>2015-02-25T00:00:00Z</td>\n",
       "      <td>NaN</td>\n",
       "      <td>6.599093e+10</td>\n",
       "      <td>6.815698e+10</td>\n",
       "      <td>3</td>\n",
       "      <td>...</td>\n",
       "      <td>6.594197e+10</td>\n",
       "      <td>7.4160</td>\n",
       "      <td>6.810641e+10</td>\n",
       "      <td>NaN</td>\n",
       "      <td>2022-07-12T00:19:00Z</td>\n",
       "      <td>1027.0</td>\n",
       "      <td>Ethereum</td>\n",
       "      <td>ETH</td>\n",
       "      <td>ethereum</td>\n",
       "      <td>0xdac17f958d2ee523a2206206994597c13d831ec7</td>\n",
       "    </tr>\n",
       "    <tr>\n",
       "      <th>3</th>\n",
       "      <td>3408</td>\n",
       "      <td>USD Coin</td>\n",
       "      <td>USDC</td>\n",
       "      <td>usd-coin</td>\n",
       "      <td>4828</td>\n",
       "      <td>2018-10-08T00:00:00Z</td>\n",
       "      <td>NaN</td>\n",
       "      <td>5.554694e+10</td>\n",
       "      <td>5.554694e+10</td>\n",
       "      <td>4</td>\n",
       "      <td>...</td>\n",
       "      <td>5.554312e+10</td>\n",
       "      <td>6.2465</td>\n",
       "      <td>5.554312e+10</td>\n",
       "      <td>NaN</td>\n",
       "      <td>2022-07-12T00:19:00Z</td>\n",
       "      <td>1027.0</td>\n",
       "      <td>Ethereum</td>\n",
       "      <td>ETH</td>\n",
       "      <td>ethereum</td>\n",
       "      <td>0xa0b86991c6218b36c1d19d4a2e9eb0ce3606eb48</td>\n",
       "    </tr>\n",
       "    <tr>\n",
       "      <th>4</th>\n",
       "      <td>1839</td>\n",
       "      <td>BNB</td>\n",
       "      <td>BNB</td>\n",
       "      <td>bnb</td>\n",
       "      <td>1001</td>\n",
       "      <td>2017-07-25T00:00:00Z</td>\n",
       "      <td>1.651168e+08</td>\n",
       "      <td>1.632770e+08</td>\n",
       "      <td>1.632770e+08</td>\n",
       "      <td>5</td>\n",
       "      <td>...</td>\n",
       "      <td>3.675065e+10</td>\n",
       "      <td>4.1331</td>\n",
       "      <td>3.716475e+10</td>\n",
       "      <td>NaN</td>\n",
       "      <td>2022-07-12T00:19:00Z</td>\n",
       "      <td>NaN</td>\n",
       "      <td>NaN</td>\n",
       "      <td>NaN</td>\n",
       "      <td>NaN</td>\n",
       "      <td>NaN</td>\n",
       "    </tr>\n",
       "    <tr>\n",
       "      <th>...</th>\n",
       "      <td>...</td>\n",
       "      <td>...</td>\n",
       "      <td>...</td>\n",
       "      <td>...</td>\n",
       "      <td>...</td>\n",
       "      <td>...</td>\n",
       "      <td>...</td>\n",
       "      <td>...</td>\n",
       "      <td>...</td>\n",
       "      <td>...</td>\n",
       "      <td>...</td>\n",
       "      <td>...</td>\n",
       "      <td>...</td>\n",
       "      <td>...</td>\n",
       "      <td>...</td>\n",
       "      <td>...</td>\n",
       "      <td>...</td>\n",
       "      <td>...</td>\n",
       "      <td>...</td>\n",
       "      <td>...</td>\n",
       "      <td>...</td>\n",
       "    </tr>\n",
       "    <tr>\n",
       "      <th>95</th>\n",
       "      <td>8677</td>\n",
       "      <td>Symbol</td>\n",
       "      <td>XYM</td>\n",
       "      <td>symbol</td>\n",
       "      <td>38</td>\n",
       "      <td>2021-03-03T00:00:00Z</td>\n",
       "      <td>9.000000e+09</td>\n",
       "      <td>5.582460e+09</td>\n",
       "      <td>7.967989e+09</td>\n",
       "      <td>96</td>\n",
       "      <td>...</td>\n",
       "      <td>2.838272e+08</td>\n",
       "      <td>0.0319</td>\n",
       "      <td>4.575841e+08</td>\n",
       "      <td>NaN</td>\n",
       "      <td>2022-07-12T00:20:00Z</td>\n",
       "      <td>NaN</td>\n",
       "      <td>NaN</td>\n",
       "      <td>NaN</td>\n",
       "      <td>NaN</td>\n",
       "      <td>NaN</td>\n",
       "    </tr>\n",
       "    <tr>\n",
       "      <th>96</th>\n",
       "      <td>1684</td>\n",
       "      <td>Qtum</td>\n",
       "      <td>QTUM</td>\n",
       "      <td>qtum</td>\n",
       "      <td>189</td>\n",
       "      <td>2017-05-24T00:00:00Z</td>\n",
       "      <td>1.078224e+08</td>\n",
       "      <td>1.042420e+08</td>\n",
       "      <td>1.039445e+08</td>\n",
       "      <td>97</td>\n",
       "      <td>...</td>\n",
       "      <td>2.810230e+08</td>\n",
       "      <td>0.0316</td>\n",
       "      <td>2.906755e+08</td>\n",
       "      <td>NaN</td>\n",
       "      <td>2022-07-12T00:19:00Z</td>\n",
       "      <td>NaN</td>\n",
       "      <td>NaN</td>\n",
       "      <td>NaN</td>\n",
       "      <td>NaN</td>\n",
       "      <td>NaN</td>\n",
       "    </tr>\n",
       "    <tr>\n",
       "      <th>97</th>\n",
       "      <td>3801</td>\n",
       "      <td>BORA</td>\n",
       "      <td>BORA</td>\n",
       "      <td>bora</td>\n",
       "      <td>14</td>\n",
       "      <td>2019-03-18T00:00:00Z</td>\n",
       "      <td>NaN</td>\n",
       "      <td>9.275000e+08</td>\n",
       "      <td>1.205750e+09</td>\n",
       "      <td>98</td>\n",
       "      <td>...</td>\n",
       "      <td>2.802307e+08</td>\n",
       "      <td>0.0315</td>\n",
       "      <td>3.642999e+08</td>\n",
       "      <td>NaN</td>\n",
       "      <td>2022-07-12T00:19:00Z</td>\n",
       "      <td>4256.0</td>\n",
       "      <td>Klaytn</td>\n",
       "      <td>KLAY</td>\n",
       "      <td>klaytn</td>\n",
       "      <td>0x02cbe46fb8a1f579254a9b485788f2d86cad51aa</td>\n",
       "    </tr>\n",
       "    <tr>\n",
       "      <th>98</th>\n",
       "      <td>5647</td>\n",
       "      <td>Kadena</td>\n",
       "      <td>KDA</td>\n",
       "      <td>kadena</td>\n",
       "      <td>32</td>\n",
       "      <td>2020-05-31T00:00:00Z</td>\n",
       "      <td>1.000000e+09</td>\n",
       "      <td>1.848024e+08</td>\n",
       "      <td>1.000000e+09</td>\n",
       "      <td>99</td>\n",
       "      <td>...</td>\n",
       "      <td>2.735800e+08</td>\n",
       "      <td>0.0308</td>\n",
       "      <td>1.480392e+09</td>\n",
       "      <td>NaN</td>\n",
       "      <td>2022-07-12T00:19:00Z</td>\n",
       "      <td>NaN</td>\n",
       "      <td>NaN</td>\n",
       "      <td>NaN</td>\n",
       "      <td>NaN</td>\n",
       "      <td>NaN</td>\n",
       "    </tr>\n",
       "    <tr>\n",
       "      <th>99</th>\n",
       "      <td>2586</td>\n",
       "      <td>Synthetix</td>\n",
       "      <td>SNX</td>\n",
       "      <td>synthetix-network-token</td>\n",
       "      <td>256</td>\n",
       "      <td>2018-03-14T00:00:00Z</td>\n",
       "      <td>2.124241e+08</td>\n",
       "      <td>1.148415e+08</td>\n",
       "      <td>2.152588e+08</td>\n",
       "      <td>100</td>\n",
       "      <td>...</td>\n",
       "      <td>2.685142e+08</td>\n",
       "      <td>0.0302</td>\n",
       "      <td>4.966747e+08</td>\n",
       "      <td>NaN</td>\n",
       "      <td>2022-07-12T00:20:00Z</td>\n",
       "      <td>1027.0</td>\n",
       "      <td>Ethereum</td>\n",
       "      <td>ETH</td>\n",
       "      <td>ethereum</td>\n",
       "      <td>0xc011a73ee8576fb46f5e1c5751ca3b9fe0af2a6f</td>\n",
       "    </tr>\n",
       "  </tbody>\n",
       "</table>\n",
       "<p>100 rows × 30 columns</p>\n",
       "</div>"
      ],
      "text/plain": [
       "      id       name symbol                     slug  num_market_pairs  \\\n",
       "0      1    Bitcoin    BTC                  bitcoin              9620   \n",
       "1   1027   Ethereum    ETH                 ethereum              5820   \n",
       "2    825     Tether   USDT                   tether             35968   \n",
       "3   3408   USD Coin   USDC                 usd-coin              4828   \n",
       "4   1839        BNB    BNB                      bnb              1001   \n",
       "..   ...        ...    ...                      ...               ...   \n",
       "95  8677     Symbol    XYM                   symbol                38   \n",
       "96  1684       Qtum   QTUM                     qtum               189   \n",
       "97  3801       BORA   BORA                     bora                14   \n",
       "98  5647     Kadena    KDA                   kadena                32   \n",
       "99  2586  Synthetix    SNX  synthetix-network-token               256   \n",
       "\n",
       "              date_added    max_supply  circulating_supply  total_supply  \\\n",
       "0   2013-04-28T00:00:00Z  2.100000e+07        1.909138e+07  1.909138e+07   \n",
       "1   2015-08-07T00:00:00Z           NaN        1.215090e+08  1.215090e+08   \n",
       "2   2015-02-25T00:00:00Z           NaN        6.599093e+10  6.815698e+10   \n",
       "3   2018-10-08T00:00:00Z           NaN        5.554694e+10  5.554694e+10   \n",
       "4   2017-07-25T00:00:00Z  1.651168e+08        1.632770e+08  1.632770e+08   \n",
       "..                   ...           ...                 ...           ...   \n",
       "95  2021-03-03T00:00:00Z  9.000000e+09        5.582460e+09  7.967989e+09   \n",
       "96  2017-05-24T00:00:00Z  1.078224e+08        1.042420e+08  1.039445e+08   \n",
       "97  2019-03-18T00:00:00Z           NaN        9.275000e+08  1.205750e+09   \n",
       "98  2020-05-31T00:00:00Z  1.000000e+09        1.848024e+08  1.000000e+09   \n",
       "99  2018-03-14T00:00:00Z  2.124241e+08        1.148415e+08  2.152588e+08   \n",
       "\n",
       "    cmc_rank  ... quote_usd_market_cap  quote_usd_market_cap_dominance  \\\n",
       "0          1  ...         3.810000e+11                         42.8880   \n",
       "1          2  ...         1.330000e+11                         14.9917   \n",
       "2          3  ...         6.594197e+10                          7.4160   \n",
       "3          4  ...         5.554312e+10                          6.2465   \n",
       "4          5  ...         3.675065e+10                          4.1331   \n",
       "..       ...  ...                  ...                             ...   \n",
       "95        96  ...         2.838272e+08                          0.0319   \n",
       "96        97  ...         2.810230e+08                          0.0316   \n",
       "97        98  ...         2.802307e+08                          0.0315   \n",
       "98        99  ...         2.735800e+08                          0.0308   \n",
       "99       100  ...         2.685142e+08                          0.0302   \n",
       "\n",
       "    quote_usd_fully_diluted_market_cap  quote_usd_tvl  quote_usd_last_updated  \\\n",
       "0                         4.190000e+11            NaN    2022-07-12T00:20:00Z   \n",
       "1                         1.330000e+11            NaN    2022-07-12T00:19:00Z   \n",
       "2                         6.810641e+10            NaN    2022-07-12T00:19:00Z   \n",
       "3                         5.554312e+10            NaN    2022-07-12T00:19:00Z   \n",
       "4                         3.716475e+10            NaN    2022-07-12T00:19:00Z   \n",
       "..                                 ...            ...                     ...   \n",
       "95                        4.575841e+08            NaN    2022-07-12T00:20:00Z   \n",
       "96                        2.906755e+08            NaN    2022-07-12T00:19:00Z   \n",
       "97                        3.642999e+08            NaN    2022-07-12T00:19:00Z   \n",
       "98                        1.480392e+09            NaN    2022-07-12T00:19:00Z   \n",
       "99                        4.966747e+08            NaN    2022-07-12T00:20:00Z   \n",
       "\n",
       "    platform_id  platform_name  platform_symbol  platform_slug  \\\n",
       "0           NaN            NaN              NaN            NaN   \n",
       "1           NaN            NaN              NaN            NaN   \n",
       "2        1027.0       Ethereum              ETH       ethereum   \n",
       "3        1027.0       Ethereum              ETH       ethereum   \n",
       "4           NaN            NaN              NaN            NaN   \n",
       "..          ...            ...              ...            ...   \n",
       "95          NaN            NaN              NaN            NaN   \n",
       "96          NaN            NaN              NaN            NaN   \n",
       "97       4256.0         Klaytn             KLAY         klaytn   \n",
       "98          NaN            NaN              NaN            NaN   \n",
       "99       1027.0       Ethereum              ETH       ethereum   \n",
       "\n",
       "                        platform_token_address  \n",
       "0                                          NaN  \n",
       "1                                          NaN  \n",
       "2   0xdac17f958d2ee523a2206206994597c13d831ec7  \n",
       "3   0xa0b86991c6218b36c1d19d4a2e9eb0ce3606eb48  \n",
       "4                                          NaN  \n",
       "..                                         ...  \n",
       "95                                         NaN  \n",
       "96                                         NaN  \n",
       "97  0x02cbe46fb8a1f579254a9b485788f2d86cad51aa  \n",
       "98                                         NaN  \n",
       "99  0xc011a73ee8576fb46f5e1c5751ca3b9fe0af2a6f  \n",
       "\n",
       "[100 rows x 30 columns]"
      ]
     },
     "execution_count": 82,
     "metadata": {},
     "output_type": "execute_result"
    }
   ],
   "source": [
    "dataset.head(rows)\n"
   ]
  },
  {
   "cell_type": "code",
   "execution_count": 83,
   "id": "002c8a3c",
   "metadata": {
    "scrolled": false
   },
   "outputs": [
    {
     "data": {
      "text/plain": [
       "id                                      int64\n",
       "name                                   object\n",
       "symbol                                 object\n",
       "slug                                   object\n",
       "num_market_pairs                        int64\n",
       "date_added                             object\n",
       "max_supply                            float64\n",
       "circulating_supply                    float64\n",
       "total_supply                          float64\n",
       "cmc_rank                                int64\n",
       "last_updated                           object\n",
       "quote_usd_price                       float64\n",
       "quote_usd_volume_24h                  float64\n",
       "quote_usd_volume_change_24h           float64\n",
       "quote_usd_percent_change_1h           float64\n",
       "quote_usd_percent_change_24h          float64\n",
       "quote_usd_percent_change_7d           float64\n",
       "quote_usd_percent_change_30d          float64\n",
       "quote_usd_percent_change_60d          float64\n",
       "quote_usd_percent_change_90d          float64\n",
       "quote_usd_market_cap                  float64\n",
       "quote_usd_market_cap_dominance        float64\n",
       "quote_usd_fully_diluted_market_cap    float64\n",
       "quote_usd_tvl                         float64\n",
       "quote_usd_last_updated                 object\n",
       "platform_id                           float64\n",
       "platform_name                          object\n",
       "platform_symbol                        object\n",
       "platform_slug                          object\n",
       "platform_token_address                 object\n",
       "dtype: object"
      ]
     },
     "execution_count": 83,
     "metadata": {},
     "output_type": "execute_result"
    }
   ],
   "source": [
    "dataset.dtypes"
   ]
  },
  {
   "cell_type": "code",
   "execution_count": 23,
   "id": "7296f7f5",
   "metadata": {},
   "outputs": [
    {
     "data": {
      "text/plain": [
       "<matplotlib.axes._subplots.AxesSubplot at 0x221a4c82788>"
      ]
     },
     "execution_count": 23,
     "metadata": {},
     "output_type": "execute_result"
    },
    {
     "data": {
      "image/png": "[encoded data removed]",
      "text/plain": [
       "<Figure size 432x288 with 1 Axes>"
      ]
     },
     "metadata": {
      "needs_background": "light"
     },
     "output_type": "display_data"
    }
   ],
   "source": [
    "dataset.plot() "
   ]
  },
  {
   "cell_type": "code",
   "execution_count": 102,
   "id": "0aca55a7",
   "metadata": {},
   "outputs": [],
   "source": [
    "x = cap\n",
    "x = x.astype('float64')"
   ]
  },
  {
   "cell_type": "code",
   "execution_count": 103,
   "id": "9d5c408b",
   "metadata": {},
   "outputs": [],
   "source": [
    "y = price\n",
    "y = y.astype('float64')\n",
    "#y=np.array(y, dtype='float64')\n",
    "#y=np.array(y, dtype='object')"
   ]
  },
  {
   "cell_type": "code",
   "execution_count": 72,
   "id": "6b232edc",
   "metadata": {},
   "outputs": [],
   "source": [
    "np.array?"
   ]
  },
  {
   "cell_type": "code",
   "execution_count": null,
   "id": "4f507ad3",
   "metadata": {},
   "outputs": [],
   "source": [
    "import sklearn.naive_bayes as nb\n",
    "gnb = nb.GaussianNB() # instantiates a Gaussian Naive Bayes object\n",
    "gnb.fit(X=x, y=y)"
   ]
  },
  {
   "cell_type": "code",
   "execution_count": 100,
   "id": "32489c20",
   "metadata": {},
   "outputs": [],
   "source": [
    "dataset = dataset.drop([\"id\"], axis = 1)\n",
    "dataset = dataset.drop([\"name\"], axis = 1)\n",
    "dataset = dataset.drop([\"symbol\"], axis = 1)\n",
    "dataset = dataset.drop([\"slug\"], axis = 1)\n",
    "dataset = dataset.drop([\"num_market_pairs\"], axis = 1)\n",
    "dataset = dataset.drop([\"date_added\"], axis = 1)\n",
    "dataset = dataset.drop([\"max_supply\"], axis = 1)\n",
    "dataset = dataset.drop([\"circulating_supply\"], axis = 1)\n",
    "dataset = dataset.drop([\"total_supply\"], axis = 1)\n",
    "dataset = dataset.drop([\"cmc_rank\"], axis = 1)\n",
    "dataset = dataset.drop([\"last_updated\"], axis = 1)\n",
    "dataset = dataset.drop([\"quote_usd_volume_24h\"], axis = 1)\n",
    "dataset = dataset.drop([\"quote_usd_volume_change_24h\"], axis = 1)\n",
    "dataset = dataset.drop([\"quote_usd_percent_change_1h\"], axis = 1)\n",
    "dataset = dataset.drop([\"quote_usd_percent_change_24h\"], axis = 1)\n",
    "dataset = dataset.drop([\"quote_usd_percent_change_7d\"], axis = 1)\n",
    "dataset = dataset.drop([\"quote_usd_percent_change_30d\"], axis = 1)\n",
    "dataset = dataset.drop([\"quote_usd_percent_change_60d\"], axis = 1)\n",
    "dataset = dataset.drop([\"quote_usd_percent_change_90d\"], axis = 1)\n",
    "dataset = dataset.drop([\"quote_usd_market_cap\"], axis = 1)\n",
    "dataset = dataset.drop([\"quote_usd_market_cap_dominance\"], axis = 1)\n",
    "dataset = dataset.drop([\"quote_usd_fully_diluted_market_cap\"], axis = 1)\n",
    "dataset = dataset.drop([\"quote_usd_tvl\"], axis = 1)\n",
    "dataset = dataset.drop([\"quote_usd_last_updated\"], axis = 1)\n",
    "dataset = dataset.drop([\"platform_name\"], axis = 1)\n",
    "dataset = dataset.drop([\"platform_symbol\"], axis = 1)\n",
    "dataset = dataset.drop([\"platform_slug\"], axis = 1)\n",
    "dataset = dataset.drop([\"platform_token_address\"], axis = 1)\n",
    "\n",
    "#dataset = dataset.drop([\"\"], axis = 1)\n"
   ]
  },
  {
   "cell_type": "code",
   "execution_count": 101,
   "id": "11f297eb",
   "metadata": {},
   "outputs": [],
   "source": [
    "x = dataset.drop([\"quote_usd_price\"], axis = 1)\n",
    "y = dataset.quote_usd_price.values\n",
    "y = y.astype('int64')"
   ]
  },
  {
   "cell_type": "code",
   "execution_count": 102,
   "id": "583a115d",
   "metadata": {},
   "outputs": [
    {
     "data": {
      "text/plain": [
       "array([19975,  1097,     0,     0,   225,     0,     0,     0,    33,\n",
       "           0,     0,     6,     0,     0,     5, 19959,    17,     0,\n",
       "           5,    48,    24,     0,     6,     0,     8,     3,   126,\n",
       "           0,    14,    99,     0,     1,     6,     0,     1,     1,\n",
       "           4,     0,     1,     5,     1,    50,    13,     8,    70,\n",
       "          78,    49,     0,     0,     8,   870,    55,     0,     0,\n",
       "           0,     0,    12,     0,     4,     2,     0,     0,     0,\n",
       "           0,     8,  1735,     0,     0,     4,     0,     0,     0,\n",
       "           0,     0,    41,     0,     2,     0,    12,    46,     1,\n",
       "           0,     0,     0,    49,     5,     0,     0,     0,     0,\n",
       "           0,     0,    21,     3,   111,     0,     2,     0,     1,\n",
       "           2], dtype=int64)"
      ]
     },
     "execution_count": 102,
     "metadata": {},
     "output_type": "execute_result"
    }
   ],
   "source": [
    "np.isnan(y)\n",
    "np.where(np.isnan(y))\n",
    "np.nan_to_num(y)"
   ]
  },
  {
   "cell_type": "code",
   "execution_count": null,
   "id": "4adf8c0a",
   "metadata": {},
   "outputs": [],
   "source": [
    "import numpy as np\n",
    "# Normalization:\n",
    "x = (x - np.min(x)) / (np.mаx(x) - np.min(x))"
   ]
  },
  {
   "cell_type": "code",
   "execution_count": 103,
   "id": "0a2edd85",
   "metadata": {},
   "outputs": [],
   "source": [
    "from sklearn.model_selection import train_test_split\n",
    "x_train, x_test, y_train, y_test = train_test_split(x, y, test_size = 0.3, random_state = 42)\n"
   ]
  },
  {
   "cell_type": "code",
   "execution_count": 104,
   "id": "9c16dde9",
   "metadata": {},
   "outputs": [
    {
     "ename": "ValueError",
     "evalue": "Input contains NaN, infinity or a value too large for dtype('float64').",
     "output_type": "error",
     "traceback": [
      "\u001b[1;31m---------------------------------------------------------------------------\u001b[0m",
      "\u001b[1;31mValueError\u001b[0m                                Traceback (most recent call last)",
      "\u001b[1;32m~\\AppData\\Local\\Temp\\ipykernel_10480\\756488632.py\u001b[0m in \u001b[0;36m<module>\u001b[1;34m\u001b[0m\n\u001b[0;32m      1\u001b[0m \u001b[1;32mfrom\u001b[0m \u001b[0msklearn\u001b[0m\u001b[1;33m.\u001b[0m\u001b[0mnaive_bayes\u001b[0m \u001b[1;32mimport\u001b[0m \u001b[0mGaussianNB\u001b[0m\u001b[1;33m\u001b[0m\u001b[1;33m\u001b[0m\u001b[0m\n\u001b[0;32m      2\u001b[0m \u001b[0mnb\u001b[0m \u001b[1;33m=\u001b[0m \u001b[0mGaussianNB\u001b[0m\u001b[1;33m(\u001b[0m\u001b[1;33m)\u001b[0m\u001b[1;33m\u001b[0m\u001b[1;33m\u001b[0m\u001b[0m\n\u001b[1;32m----> 3\u001b[1;33m \u001b[0mnb\u001b[0m\u001b[1;33m.\u001b[0m\u001b[0mfit\u001b[0m\u001b[1;33m(\u001b[0m\u001b[0mx_train\u001b[0m\u001b[1;33m,\u001b[0m \u001b[0my_train\u001b[0m\u001b[1;33m)\u001b[0m\u001b[1;33m\u001b[0m\u001b[1;33m\u001b[0m\u001b[0m\n\u001b[0m",
      "\u001b[1;32m~\\.conda\\envs\\Tensorflow\\lib\\site-packages\\sklearn\\naive_bayes.py\u001b[0m in \u001b[0;36mfit\u001b[1;34m(self, X, y, sample_weight)\u001b[0m\n\u001b[0;32m    244\u001b[0m         \u001b[0my\u001b[0m \u001b[1;33m=\u001b[0m \u001b[0mself\u001b[0m\u001b[1;33m.\u001b[0m\u001b[0m_validate_data\u001b[0m\u001b[1;33m(\u001b[0m\u001b[0my\u001b[0m\u001b[1;33m=\u001b[0m\u001b[0my\u001b[0m\u001b[1;33m)\u001b[0m\u001b[1;33m\u001b[0m\u001b[1;33m\u001b[0m\u001b[0m\n\u001b[0;32m    245\u001b[0m         return self._partial_fit(\n\u001b[1;32m--> 246\u001b[1;33m             \u001b[0mX\u001b[0m\u001b[1;33m,\u001b[0m \u001b[0my\u001b[0m\u001b[1;33m,\u001b[0m \u001b[0mnp\u001b[0m\u001b[1;33m.\u001b[0m\u001b[0munique\u001b[0m\u001b[1;33m(\u001b[0m\u001b[0my\u001b[0m\u001b[1;33m)\u001b[0m\u001b[1;33m,\u001b[0m \u001b[0m_refit\u001b[0m\u001b[1;33m=\u001b[0m\u001b[1;32mTrue\u001b[0m\u001b[1;33m,\u001b[0m \u001b[0msample_weight\u001b[0m\u001b[1;33m=\u001b[0m\u001b[0msample_weight\u001b[0m\u001b[1;33m\u001b[0m\u001b[1;33m\u001b[0m\u001b[0m\n\u001b[0m\u001b[0;32m    247\u001b[0m         )\n\u001b[0;32m    248\u001b[0m \u001b[1;33m\u001b[0m\u001b[0m\n",
      "\u001b[1;32m~\\.conda\\envs\\Tensorflow\\lib\\site-packages\\sklearn\\naive_bayes.py\u001b[0m in \u001b[0;36m_partial_fit\u001b[1;34m(self, X, y, classes, _refit, sample_weight)\u001b[0m\n\u001b[0;32m    400\u001b[0m \u001b[1;33m\u001b[0m\u001b[0m\n\u001b[0;32m    401\u001b[0m         \u001b[0mfirst_call\u001b[0m \u001b[1;33m=\u001b[0m \u001b[0m_check_partial_fit_first_call\u001b[0m\u001b[1;33m(\u001b[0m\u001b[0mself\u001b[0m\u001b[1;33m,\u001b[0m \u001b[0mclasses\u001b[0m\u001b[1;33m)\u001b[0m\u001b[1;33m\u001b[0m\u001b[1;33m\u001b[0m\u001b[0m\n\u001b[1;32m--> 402\u001b[1;33m         \u001b[0mX\u001b[0m\u001b[1;33m,\u001b[0m \u001b[0my\u001b[0m \u001b[1;33m=\u001b[0m \u001b[0mself\u001b[0m\u001b[1;33m.\u001b[0m\u001b[0m_validate_data\u001b[0m\u001b[1;33m(\u001b[0m\u001b[0mX\u001b[0m\u001b[1;33m,\u001b[0m \u001b[0my\u001b[0m\u001b[1;33m,\u001b[0m \u001b[0mreset\u001b[0m\u001b[1;33m=\u001b[0m\u001b[0mfirst_call\u001b[0m\u001b[1;33m)\u001b[0m\u001b[1;33m\u001b[0m\u001b[1;33m\u001b[0m\u001b[0m\n\u001b[0m\u001b[0;32m    403\u001b[0m         \u001b[1;32mif\u001b[0m \u001b[0msample_weight\u001b[0m \u001b[1;32mis\u001b[0m \u001b[1;32mnot\u001b[0m \u001b[1;32mNone\u001b[0m\u001b[1;33m:\u001b[0m\u001b[1;33m\u001b[0m\u001b[1;33m\u001b[0m\u001b[0m\n\u001b[0;32m    404\u001b[0m             \u001b[0msample_weight\u001b[0m \u001b[1;33m=\u001b[0m \u001b[0m_check_sample_weight\u001b[0m\u001b[1;33m(\u001b[0m\u001b[0msample_weight\u001b[0m\u001b[1;33m,\u001b[0m \u001b[0mX\u001b[0m\u001b[1;33m)\u001b[0m\u001b[1;33m\u001b[0m\u001b[1;33m\u001b[0m\u001b[0m\n",
      "\u001b[1;32m~\\.conda\\envs\\Tensorflow\\lib\\site-packages\\sklearn\\base.py\u001b[0m in \u001b[0;36m_validate_data\u001b[1;34m(self, X, y, reset, validate_separately, **check_params)\u001b[0m\n\u001b[0;32m    579\u001b[0m                 \u001b[0my\u001b[0m \u001b[1;33m=\u001b[0m \u001b[0mcheck_array\u001b[0m\u001b[1;33m(\u001b[0m\u001b[0my\u001b[0m\u001b[1;33m,\u001b[0m \u001b[1;33m**\u001b[0m\u001b[0mcheck_y_params\u001b[0m\u001b[1;33m)\u001b[0m\u001b[1;33m\u001b[0m\u001b[1;33m\u001b[0m\u001b[0m\n\u001b[0;32m    580\u001b[0m             \u001b[1;32melse\u001b[0m\u001b[1;33m:\u001b[0m\u001b[1;33m\u001b[0m\u001b[1;33m\u001b[0m\u001b[0m\n\u001b[1;32m--> 581\u001b[1;33m                 \u001b[0mX\u001b[0m\u001b[1;33m,\u001b[0m \u001b[0my\u001b[0m \u001b[1;33m=\u001b[0m \u001b[0mcheck_X_y\u001b[0m\u001b[1;33m(\u001b[0m\u001b[0mX\u001b[0m\u001b[1;33m,\u001b[0m \u001b[0my\u001b[0m\u001b[1;33m,\u001b[0m \u001b[1;33m**\u001b[0m\u001b[0mcheck_params\u001b[0m\u001b[1;33m)\u001b[0m\u001b[1;33m\u001b[0m\u001b[1;33m\u001b[0m\u001b[0m\n\u001b[0m\u001b[0;32m    582\u001b[0m             \u001b[0mout\u001b[0m \u001b[1;33m=\u001b[0m \u001b[0mX\u001b[0m\u001b[1;33m,\u001b[0m \u001b[0my\u001b[0m\u001b[1;33m\u001b[0m\u001b[1;33m\u001b[0m\u001b[0m\n\u001b[0;32m    583\u001b[0m \u001b[1;33m\u001b[0m\u001b[0m\n",
      "\u001b[1;32m~\\.conda\\envs\\Tensorflow\\lib\\site-packages\\sklearn\\utils\\validation.py\u001b[0m in \u001b[0;36mcheck_X_y\u001b[1;34m(X, y, accept_sparse, accept_large_sparse, dtype, order, copy, force_all_finite, ensure_2d, allow_nd, multi_output, ensure_min_samples, ensure_min_features, y_numeric, estimator)\u001b[0m\n\u001b[0;32m    974\u001b[0m         \u001b[0mensure_min_samples\u001b[0m\u001b[1;33m=\u001b[0m\u001b[0mensure_min_samples\u001b[0m\u001b[1;33m,\u001b[0m\u001b[1;33m\u001b[0m\u001b[1;33m\u001b[0m\u001b[0m\n\u001b[0;32m    975\u001b[0m         \u001b[0mensure_min_features\u001b[0m\u001b[1;33m=\u001b[0m\u001b[0mensure_min_features\u001b[0m\u001b[1;33m,\u001b[0m\u001b[1;33m\u001b[0m\u001b[1;33m\u001b[0m\u001b[0m\n\u001b[1;32m--> 976\u001b[1;33m         \u001b[0mestimator\u001b[0m\u001b[1;33m=\u001b[0m\u001b[0mestimator\u001b[0m\u001b[1;33m,\u001b[0m\u001b[1;33m\u001b[0m\u001b[1;33m\u001b[0m\u001b[0m\n\u001b[0m\u001b[0;32m    977\u001b[0m     )\n\u001b[0;32m    978\u001b[0m \u001b[1;33m\u001b[0m\u001b[0m\n",
      "\u001b[1;32m~\\.conda\\envs\\Tensorflow\\lib\\site-packages\\sklearn\\utils\\validation.py\u001b[0m in \u001b[0;36mcheck_array\u001b[1;34m(array, accept_sparse, accept_large_sparse, dtype, order, copy, force_all_finite, ensure_2d, allow_nd, ensure_min_samples, ensure_min_features, estimator)\u001b[0m\n\u001b[0;32m    798\u001b[0m \u001b[1;33m\u001b[0m\u001b[0m\n\u001b[0;32m    799\u001b[0m         \u001b[1;32mif\u001b[0m \u001b[0mforce_all_finite\u001b[0m\u001b[1;33m:\u001b[0m\u001b[1;33m\u001b[0m\u001b[1;33m\u001b[0m\u001b[0m\n\u001b[1;32m--> 800\u001b[1;33m             \u001b[0m_assert_all_finite\u001b[0m\u001b[1;33m(\u001b[0m\u001b[0marray\u001b[0m\u001b[1;33m,\u001b[0m \u001b[0mallow_nan\u001b[0m\u001b[1;33m=\u001b[0m\u001b[0mforce_all_finite\u001b[0m \u001b[1;33m==\u001b[0m \u001b[1;34m\"allow-nan\"\u001b[0m\u001b[1;33m)\u001b[0m\u001b[1;33m\u001b[0m\u001b[1;33m\u001b[0m\u001b[0m\n\u001b[0m\u001b[0;32m    801\u001b[0m \u001b[1;33m\u001b[0m\u001b[0m\n\u001b[0;32m    802\u001b[0m     \u001b[1;32mif\u001b[0m \u001b[0mensure_min_samples\u001b[0m \u001b[1;33m>\u001b[0m \u001b[1;36m0\u001b[0m\u001b[1;33m:\u001b[0m\u001b[1;33m\u001b[0m\u001b[1;33m\u001b[0m\u001b[0m\n",
      "\u001b[1;32m~\\.conda\\envs\\Tensorflow\\lib\\site-packages\\sklearn\\utils\\validation.py\u001b[0m in \u001b[0;36m_assert_all_finite\u001b[1;34m(X, allow_nan, msg_dtype)\u001b[0m\n\u001b[0;32m    114\u001b[0m             raise ValueError(\n\u001b[0;32m    115\u001b[0m                 msg_err.format(\n\u001b[1;32m--> 116\u001b[1;33m                     \u001b[0mtype_err\u001b[0m\u001b[1;33m,\u001b[0m \u001b[0mmsg_dtype\u001b[0m \u001b[1;32mif\u001b[0m \u001b[0mmsg_dtype\u001b[0m \u001b[1;32mis\u001b[0m \u001b[1;32mnot\u001b[0m \u001b[1;32mNone\u001b[0m \u001b[1;32melse\u001b[0m \u001b[0mX\u001b[0m\u001b[1;33m.\u001b[0m\u001b[0mdtype\u001b[0m\u001b[1;33m\u001b[0m\u001b[1;33m\u001b[0m\u001b[0m\n\u001b[0m\u001b[0;32m    117\u001b[0m                 )\n\u001b[0;32m    118\u001b[0m             )\n",
      "\u001b[1;31mValueError\u001b[0m: Input contains NaN, infinity or a value too large for dtype('float64')."
     ]
    }
   ],
   "source": [
    "from sklearn.naive_bayes import GaussianNB\n",
    "nb = GaussianNB()\n",
    "nb.fit(x_train, y_train)"
   ]
  },
  {
   "cell_type": "code",
   "execution_count": null,
   "id": "bc7c99e4",
   "metadata": {},
   "outputs": [],
   "source": [
    "GaussianNB()\n"
   ]
  },
  {
   "cell_type": "code",
   "execution_count": null,
   "id": "b3b54c51",
   "metadata": {},
   "outputs": [],
   "source": [
    "print(\"Naive Bayes score: \",nb.score(x_test, y_test))"
   ]
  },
  {
   "cell_type": "code",
   "execution_count": null,
   "id": "60a19928",
   "metadata": {},
   "outputs": [],
   "source": []
  },
  {
   "cell_type": "code",
   "execution_count": null,
   "id": "636feaf1",
   "metadata": {},
   "outputs": [],
   "source": []
  },
  {
   "cell_type": "code",
   "execution_count": null,
   "id": "f07ea95c",
   "metadata": {},
   "outputs": [],
   "source": []
  },
  {
   "cell_type": "code",
   "execution_count": null,
   "id": "f29267c2",
   "metadata": {},
   "outputs": [],
   "source": []
  },
  {
   "cell_type": "code",
   "execution_count": null,
   "id": "5f62a45b",
   "metadata": {},
   "outputs": [],
   "source": []
  },
  {
   "cell_type": "code",
   "execution_count": null,
   "id": "a441599e",
   "metadata": {},
   "outputs": [],
   "source": []
  },
  {
   "cell_type": "code",
   "execution_count": null,
   "id": "4f6e78ff",
   "metadata": {},
   "outputs": [],
   "source": []
  },
  {
   "cell_type": "code",
   "execution_count": null,
   "id": "353309ac",
   "metadata": {},
   "outputs": [],
   "source": []
  }
 ],
 "metadata": {
  "kernelspec": {
   "display_name": "Python 3 (ipykernel)",
   "language": "python",
   "name": "python3"
  },
  "language_info": {
   "codemirror_mode": {
    "name": "ipython",
    "version": 3
   },
   "file_extension": ".py",
   "mimetype": "text/x-python",
   "name": "python",
   "nbconvert_exporter": "python",
   "pygments_lexer": "ipython3",
   "version": "3.8.13"
  }
 },
 "nbformat": 4,
 "nbformat_minor": 5
}
