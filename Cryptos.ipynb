{
 "cells": [
  {
   "cell_type": "markdown",
   "metadata": {},
   "source": [
    "# CryptoCurrencies"
   ]
  },
  {
   "cell_type": "markdown",
   "metadata": {},
   "source": [
    "### Importing required libraries\n",
    "Here I am going to importing some of the required library, if extra library is required to install It will be install later on."
   ]
  },
  {
   "cell_type": "code",
   "execution_count": 1,
   "metadata": {},
   "outputs": [],
   "source": [
    "import pandas as pd\n",
    "import numpy as np\n",
    "import seaborn as sns\n",
    "import matplotlib.pyplot as plt\n",
    "from sklearn.model_selection import train_test_split\n",
    "from sklearn.metrics import accuracy_score\n",
    "from sklearn.metrics import classification_report\n",
    "import re\n",
    "import string"
   ]
  },
  {
   "cell_type": "code",
   "execution_count": 2,
   "metadata": {},
   "outputs": [],
   "source": [
    "from sklearn import preprocessing\n",
    "from sklearn import utils"
   ]
  },
  {
   "cell_type": "markdown",
   "metadata": {},
   "source": [
    "### Inserting the dataset"
   ]
  },
  {
   "cell_type": "code",
   "execution_count": 3,
   "metadata": {},
   "outputs": [],
   "source": [
    "ds_coin = pd.read_csv(\"crypto.csv\")"
   ]
  },
  {
   "cell_type": "code",
   "execution_count": 4,
   "metadata": {},
   "outputs": [
    {
     "data": {
      "text/html": [
       "<div>\n",
       "<style scoped>\n",
       "    .dataframe tbody tr th:only-of-type {\n",
       "        vertical-align: middle;\n",
       "    }\n",
       "\n",
       "    .dataframe tbody tr th {\n",
       "        vertical-align: top;\n",
       "    }\n",
       "\n",
       "    .dataframe thead th {\n",
       "        text-align: right;\n",
       "    }\n",
       "</style>\n",
       "<table border=\"1\" class=\"dataframe\">\n",
       "  <thead>\n",
       "    <tr style=\"text-align: right;\">\n",
       "      <th></th>\n",
       "      <th>id</th>\n",
       "      <th>name</th>\n",
       "      <th>symbol</th>\n",
       "      <th>slug</th>\n",
       "      <th>num_market_pairs</th>\n",
       "      <th>date_added</th>\n",
       "      <th>max_supply</th>\n",
       "      <th>circulating_supply</th>\n",
       "      <th>total_supply</th>\n",
       "      <th>cmc_rank</th>\n",
       "      <th>...</th>\n",
       "      <th>quote_usd_market_cap</th>\n",
       "      <th>quote_usd_market_cap_dominance</th>\n",
       "      <th>quote_usd_fully_diluted_market_cap</th>\n",
       "      <th>quote_usd_tvl</th>\n",
       "      <th>quote_usd_last_updated</th>\n",
       "      <th>platform_id</th>\n",
       "      <th>platform_name</th>\n",
       "      <th>platform_symbol</th>\n",
       "      <th>platform_slug</th>\n",
       "      <th>platform_token_address</th>\n",
       "    </tr>\n",
       "  </thead>\n",
       "  <tbody>\n",
       "    <tr>\n",
       "      <th>0</th>\n",
       "      <td>1</td>\n",
       "      <td>Bitcoin</td>\n",
       "      <td>BTC</td>\n",
       "      <td>bitcoin</td>\n",
       "      <td>9620</td>\n",
       "      <td>2013-04-28T00:00:00Z</td>\n",
       "      <td>2.100000e+07</td>\n",
       "      <td>1.909138e+07</td>\n",
       "      <td>1.909138e+07</td>\n",
       "      <td>1</td>\n",
       "      <td>...</td>\n",
       "      <td>3.810000e+11</td>\n",
       "      <td>42.8880</td>\n",
       "      <td>4.190000e+11</td>\n",
       "      <td>NaN</td>\n",
       "      <td>2022-07-12T00:20:00Z</td>\n",
       "      <td>NaN</td>\n",
       "      <td>NaN</td>\n",
       "      <td>NaN</td>\n",
       "      <td>NaN</td>\n",
       "      <td>NaN</td>\n",
       "    </tr>\n",
       "    <tr>\n",
       "      <th>1</th>\n",
       "      <td>1027</td>\n",
       "      <td>Ethereum</td>\n",
       "      <td>ETH</td>\n",
       "      <td>ethereum</td>\n",
       "      <td>5820</td>\n",
       "      <td>2015-08-07T00:00:00Z</td>\n",
       "      <td>NaN</td>\n",
       "      <td>1.215090e+08</td>\n",
       "      <td>1.215090e+08</td>\n",
       "      <td>2</td>\n",
       "      <td>...</td>\n",
       "      <td>1.330000e+11</td>\n",
       "      <td>14.9917</td>\n",
       "      <td>1.330000e+11</td>\n",
       "      <td>NaN</td>\n",
       "      <td>2022-07-12T00:19:00Z</td>\n",
       "      <td>NaN</td>\n",
       "      <td>NaN</td>\n",
       "      <td>NaN</td>\n",
       "      <td>NaN</td>\n",
       "      <td>NaN</td>\n",
       "    </tr>\n",
       "    <tr>\n",
       "      <th>2</th>\n",
       "      <td>825</td>\n",
       "      <td>Tether</td>\n",
       "      <td>USDT</td>\n",
       "      <td>tether</td>\n",
       "      <td>35968</td>\n",
       "      <td>2015-02-25T00:00:00Z</td>\n",
       "      <td>NaN</td>\n",
       "      <td>6.599093e+10</td>\n",
       "      <td>6.815698e+10</td>\n",
       "      <td>3</td>\n",
       "      <td>...</td>\n",
       "      <td>6.594197e+10</td>\n",
       "      <td>7.4160</td>\n",
       "      <td>6.810641e+10</td>\n",
       "      <td>NaN</td>\n",
       "      <td>2022-07-12T00:19:00Z</td>\n",
       "      <td>1027.0</td>\n",
       "      <td>Ethereum</td>\n",
       "      <td>ETH</td>\n",
       "      <td>ethereum</td>\n",
       "      <td>0xdac17f958d2ee523a2206206994597c13d831ec7</td>\n",
       "    </tr>\n",
       "    <tr>\n",
       "      <th>3</th>\n",
       "      <td>3408</td>\n",
       "      <td>USD Coin</td>\n",
       "      <td>USDC</td>\n",
       "      <td>usd-coin</td>\n",
       "      <td>4828</td>\n",
       "      <td>2018-10-08T00:00:00Z</td>\n",
       "      <td>NaN</td>\n",
       "      <td>5.554694e+10</td>\n",
       "      <td>5.554694e+10</td>\n",
       "      <td>4</td>\n",
       "      <td>...</td>\n",
       "      <td>5.554312e+10</td>\n",
       "      <td>6.2465</td>\n",
       "      <td>5.554312e+10</td>\n",
       "      <td>NaN</td>\n",
       "      <td>2022-07-12T00:19:00Z</td>\n",
       "      <td>1027.0</td>\n",
       "      <td>Ethereum</td>\n",
       "      <td>ETH</td>\n",
       "      <td>ethereum</td>\n",
       "      <td>0xa0b86991c6218b36c1d19d4a2e9eb0ce3606eb48</td>\n",
       "    </tr>\n",
       "    <tr>\n",
       "      <th>4</th>\n",
       "      <td>1839</td>\n",
       "      <td>BNB</td>\n",
       "      <td>BNB</td>\n",
       "      <td>bnb</td>\n",
       "      <td>1001</td>\n",
       "      <td>2017-07-25T00:00:00Z</td>\n",
       "      <td>1.651168e+08</td>\n",
       "      <td>1.632770e+08</td>\n",
       "      <td>1.632770e+08</td>\n",
       "      <td>5</td>\n",
       "      <td>...</td>\n",
       "      <td>3.675065e+10</td>\n",
       "      <td>4.1331</td>\n",
       "      <td>3.716475e+10</td>\n",
       "      <td>NaN</td>\n",
       "      <td>2022-07-12T00:19:00Z</td>\n",
       "      <td>NaN</td>\n",
       "      <td>NaN</td>\n",
       "      <td>NaN</td>\n",
       "      <td>NaN</td>\n",
       "      <td>NaN</td>\n",
       "    </tr>\n",
       "    <tr>\n",
       "      <th>...</th>\n",
       "      <td>...</td>\n",
       "      <td>...</td>\n",
       "      <td>...</td>\n",
       "      <td>...</td>\n",
       "      <td>...</td>\n",
       "      <td>...</td>\n",
       "      <td>...</td>\n",
       "      <td>...</td>\n",
       "      <td>...</td>\n",
       "      <td>...</td>\n",
       "      <td>...</td>\n",
       "      <td>...</td>\n",
       "      <td>...</td>\n",
       "      <td>...</td>\n",
       "      <td>...</td>\n",
       "      <td>...</td>\n",
       "      <td>...</td>\n",
       "      <td>...</td>\n",
       "      <td>...</td>\n",
       "      <td>...</td>\n",
       "      <td>...</td>\n",
       "    </tr>\n",
       "    <tr>\n",
       "      <th>95</th>\n",
       "      <td>8677</td>\n",
       "      <td>Symbol</td>\n",
       "      <td>XYM</td>\n",
       "      <td>symbol</td>\n",
       "      <td>38</td>\n",
       "      <td>2021-03-03T00:00:00Z</td>\n",
       "      <td>9.000000e+09</td>\n",
       "      <td>5.582460e+09</td>\n",
       "      <td>7.967989e+09</td>\n",
       "      <td>96</td>\n",
       "      <td>...</td>\n",
       "      <td>2.838272e+08</td>\n",
       "      <td>0.0319</td>\n",
       "      <td>4.575841e+08</td>\n",
       "      <td>NaN</td>\n",
       "      <td>2022-07-12T00:20:00Z</td>\n",
       "      <td>NaN</td>\n",
       "      <td>NaN</td>\n",
       "      <td>NaN</td>\n",
       "      <td>NaN</td>\n",
       "      <td>NaN</td>\n",
       "    </tr>\n",
       "    <tr>\n",
       "      <th>96</th>\n",
       "      <td>1684</td>\n",
       "      <td>Qtum</td>\n",
       "      <td>QTUM</td>\n",
       "      <td>qtum</td>\n",
       "      <td>189</td>\n",
       "      <td>2017-05-24T00:00:00Z</td>\n",
       "      <td>1.078224e+08</td>\n",
       "      <td>1.042420e+08</td>\n",
       "      <td>1.039445e+08</td>\n",
       "      <td>97</td>\n",
       "      <td>...</td>\n",
       "      <td>2.810230e+08</td>\n",
       "      <td>0.0316</td>\n",
       "      <td>2.906755e+08</td>\n",
       "      <td>NaN</td>\n",
       "      <td>2022-07-12T00:19:00Z</td>\n",
       "      <td>NaN</td>\n",
       "      <td>NaN</td>\n",
       "      <td>NaN</td>\n",
       "      <td>NaN</td>\n",
       "      <td>NaN</td>\n",
       "    </tr>\n",
       "    <tr>\n",
       "      <th>97</th>\n",
       "      <td>3801</td>\n",
       "      <td>BORA</td>\n",
       "      <td>BORA</td>\n",
       "      <td>bora</td>\n",
       "      <td>14</td>\n",
       "      <td>2019-03-18T00:00:00Z</td>\n",
       "      <td>NaN</td>\n",
       "      <td>9.275000e+08</td>\n",
       "      <td>1.205750e+09</td>\n",
       "      <td>98</td>\n",
       "      <td>...</td>\n",
       "      <td>2.802307e+08</td>\n",
       "      <td>0.0315</td>\n",
       "      <td>3.642999e+08</td>\n",
       "      <td>NaN</td>\n",
       "      <td>2022-07-12T00:19:00Z</td>\n",
       "      <td>4256.0</td>\n",
       "      <td>Klaytn</td>\n",
       "      <td>KLAY</td>\n",
       "      <td>klaytn</td>\n",
       "      <td>0x02cbe46fb8a1f579254a9b485788f2d86cad51aa</td>\n",
       "    </tr>\n",
       "    <tr>\n",
       "      <th>98</th>\n",
       "      <td>5647</td>\n",
       "      <td>Kadena</td>\n",
       "      <td>KDA</td>\n",
       "      <td>kadena</td>\n",
       "      <td>32</td>\n",
       "      <td>2020-05-31T00:00:00Z</td>\n",
       "      <td>1.000000e+09</td>\n",
       "      <td>1.848024e+08</td>\n",
       "      <td>1.000000e+09</td>\n",
       "      <td>99</td>\n",
       "      <td>...</td>\n",
       "      <td>2.735800e+08</td>\n",
       "      <td>0.0308</td>\n",
       "      <td>1.480392e+09</td>\n",
       "      <td>NaN</td>\n",
       "      <td>2022-07-12T00:19:00Z</td>\n",
       "      <td>NaN</td>\n",
       "      <td>NaN</td>\n",
       "      <td>NaN</td>\n",
       "      <td>NaN</td>\n",
       "      <td>NaN</td>\n",
       "    </tr>\n",
       "    <tr>\n",
       "      <th>99</th>\n",
       "      <td>2586</td>\n",
       "      <td>Synthetix</td>\n",
       "      <td>SNX</td>\n",
       "      <td>synthetix-network-token</td>\n",
       "      <td>256</td>\n",
       "      <td>2018-03-14T00:00:00Z</td>\n",
       "      <td>2.124241e+08</td>\n",
       "      <td>1.148415e+08</td>\n",
       "      <td>2.152588e+08</td>\n",
       "      <td>100</td>\n",
       "      <td>...</td>\n",
       "      <td>2.685142e+08</td>\n",
       "      <td>0.0302</td>\n",
       "      <td>4.966747e+08</td>\n",
       "      <td>NaN</td>\n",
       "      <td>2022-07-12T00:20:00Z</td>\n",
       "      <td>1027.0</td>\n",
       "      <td>Ethereum</td>\n",
       "      <td>ETH</td>\n",
       "      <td>ethereum</td>\n",
       "      <td>0xc011a73ee8576fb46f5e1c5751ca3b9fe0af2a6f</td>\n",
       "    </tr>\n",
       "  </tbody>\n",
       "</table>\n",
       "<p>100 rows × 30 columns</p>\n",
       "</div>"
      ],
      "text/plain": [
       "      id       name symbol                     slug  num_market_pairs  \\\n",
       "0      1    Bitcoin    BTC                  bitcoin              9620   \n",
       "1   1027   Ethereum    ETH                 ethereum              5820   \n",
       "2    825     Tether   USDT                   tether             35968   \n",
       "3   3408   USD Coin   USDC                 usd-coin              4828   \n",
       "4   1839        BNB    BNB                      bnb              1001   \n",
       "..   ...        ...    ...                      ...               ...   \n",
       "95  8677     Symbol    XYM                   symbol                38   \n",
       "96  1684       Qtum   QTUM                     qtum               189   \n",
       "97  3801       BORA   BORA                     bora                14   \n",
       "98  5647     Kadena    KDA                   kadena                32   \n",
       "99  2586  Synthetix    SNX  synthetix-network-token               256   \n",
       "\n",
       "              date_added    max_supply  circulating_supply  total_supply  \\\n",
       "0   2013-04-28T00:00:00Z  2.100000e+07        1.909138e+07  1.909138e+07   \n",
       "1   2015-08-07T00:00:00Z           NaN        1.215090e+08  1.215090e+08   \n",
       "2   2015-02-25T00:00:00Z           NaN        6.599093e+10  6.815698e+10   \n",
       "3   2018-10-08T00:00:00Z           NaN        5.554694e+10  5.554694e+10   \n",
       "4   2017-07-25T00:00:00Z  1.651168e+08        1.632770e+08  1.632770e+08   \n",
       "..                   ...           ...                 ...           ...   \n",
       "95  2021-03-03T00:00:00Z  9.000000e+09        5.582460e+09  7.967989e+09   \n",
       "96  2017-05-24T00:00:00Z  1.078224e+08        1.042420e+08  1.039445e+08   \n",
       "97  2019-03-18T00:00:00Z           NaN        9.275000e+08  1.205750e+09   \n",
       "98  2020-05-31T00:00:00Z  1.000000e+09        1.848024e+08  1.000000e+09   \n",
       "99  2018-03-14T00:00:00Z  2.124241e+08        1.148415e+08  2.152588e+08   \n",
       "\n",
       "    cmc_rank  ... quote_usd_market_cap  quote_usd_market_cap_dominance  \\\n",
       "0          1  ...         3.810000e+11                         42.8880   \n",
       "1          2  ...         1.330000e+11                         14.9917   \n",
       "2          3  ...         6.594197e+10                          7.4160   \n",
       "3          4  ...         5.554312e+10                          6.2465   \n",
       "4          5  ...         3.675065e+10                          4.1331   \n",
       "..       ...  ...                  ...                             ...   \n",
       "95        96  ...         2.838272e+08                          0.0319   \n",
       "96        97  ...         2.810230e+08                          0.0316   \n",
       "97        98  ...         2.802307e+08                          0.0315   \n",
       "98        99  ...         2.735800e+08                          0.0308   \n",
       "99       100  ...         2.685142e+08                          0.0302   \n",
       "\n",
       "    quote_usd_fully_diluted_market_cap  quote_usd_tvl  quote_usd_last_updated  \\\n",
       "0                         4.190000e+11            NaN    2022-07-12T00:20:00Z   \n",
       "1                         1.330000e+11            NaN    2022-07-12T00:19:00Z   \n",
       "2                         6.810641e+10            NaN    2022-07-12T00:19:00Z   \n",
       "3                         5.554312e+10            NaN    2022-07-12T00:19:00Z   \n",
       "4                         3.716475e+10            NaN    2022-07-12T00:19:00Z   \n",
       "..                                 ...            ...                     ...   \n",
       "95                        4.575841e+08            NaN    2022-07-12T00:20:00Z   \n",
       "96                        2.906755e+08            NaN    2022-07-12T00:19:00Z   \n",
       "97                        3.642999e+08            NaN    2022-07-12T00:19:00Z   \n",
       "98                        1.480392e+09            NaN    2022-07-12T00:19:00Z   \n",
       "99                        4.966747e+08            NaN    2022-07-12T00:20:00Z   \n",
       "\n",
       "    platform_id  platform_name  platform_symbol  platform_slug  \\\n",
       "0           NaN            NaN              NaN            NaN   \n",
       "1           NaN            NaN              NaN            NaN   \n",
       "2        1027.0       Ethereum              ETH       ethereum   \n",
       "3        1027.0       Ethereum              ETH       ethereum   \n",
       "4           NaN            NaN              NaN            NaN   \n",
       "..          ...            ...              ...            ...   \n",
       "95          NaN            NaN              NaN            NaN   \n",
       "96          NaN            NaN              NaN            NaN   \n",
       "97       4256.0         Klaytn             KLAY         klaytn   \n",
       "98          NaN            NaN              NaN            NaN   \n",
       "99       1027.0       Ethereum              ETH       ethereum   \n",
       "\n",
       "                        platform_token_address  \n",
       "0                                          NaN  \n",
       "1                                          NaN  \n",
       "2   0xdac17f958d2ee523a2206206994597c13d831ec7  \n",
       "3   0xa0b86991c6218b36c1d19d4a2e9eb0ce3606eb48  \n",
       "4                                          NaN  \n",
       "..                                         ...  \n",
       "95                                         NaN  \n",
       "96                                         NaN  \n",
       "97  0x02cbe46fb8a1f579254a9b485788f2d86cad51aa  \n",
       "98                                         NaN  \n",
       "99  0xc011a73ee8576fb46f5e1c5751ca3b9fe0af2a6f  \n",
       "\n",
       "[100 rows x 30 columns]"
      ]
     },
     "execution_count": 4,
     "metadata": {},
     "output_type": "execute_result"
    }
   ],
   "source": [
    "ds_coin.head(100)"
   ]
  },
  {
   "cell_type": "code",
   "execution_count": 5,
   "metadata": {},
   "outputs": [
    {
     "data": {
      "text/plain": [
       "Index(['id', 'name', 'symbol', 'slug', 'num_market_pairs', 'date_added',\n",
       "       'max_supply', 'circulating_supply', 'total_supply', 'cmc_rank',\n",
       "       'last_updated', 'quote_usd_price', 'quote_usd_volume_24h',\n",
       "       'quote_usd_volume_change_24h', 'quote_usd_percent_change_1h',\n",
       "       'quote_usd_percent_change_24h', 'quote_usd_percent_change_7d',\n",
       "       'quote_usd_percent_change_30d', 'quote_usd_percent_change_60d',\n",
       "       'quote_usd_percent_change_90d', 'quote_usd_market_cap',\n",
       "       'quote_usd_market_cap_dominance', 'quote_usd_fully_diluted_market_cap',\n",
       "       'quote_usd_tvl', 'quote_usd_last_updated', 'platform_id',\n",
       "       'platform_name', 'platform_symbol', 'platform_slug',\n",
       "       'platform_token_address'],\n",
       "      dtype='object')"
      ]
     },
     "execution_count": 5,
     "metadata": {},
     "output_type": "execute_result"
    }
   ],
   "source": [
    "ds_coin.columns"
   ]
  },
  {
   "cell_type": "markdown",
   "metadata": {},
   "source": [
    "#### Some columns are not required, so I am going to drop the columns."
   ]
  },
  {
   "cell_type": "code",
   "execution_count": 6,
   "metadata": {},
   "outputs": [],
   "source": [
    "ds = ds_coin.drop([\"id\", \"name\", \"symbol\", \"slug\", \"num_market_pairs\", \"date_added\", \"max_supply\", \"cmc_rank\", \n",
    "            \"last_updated\", \"quote_usd_volume_24h\", \"quote_usd_volume_change_24h\", \"quote_usd_percent_change_1h\", \n",
    "            \"quote_usd_percent_change_24h\", \"quote_usd_percent_change_7d\", \"quote_usd_percent_change_30d\", \n",
    "            \"quote_usd_percent_change_60d\", \"quote_usd_percent_change_90d\", \"quote_usd_market_cap_dominance\",          \n",
    "            \"quote_usd_fully_diluted_market_cap\", \"quote_usd_tvl\", \"quote_usd_last_updated\",\n",
    "            \"platform_id\", \"platform_name\", \"platform_symbol\", \"platform_slug\", \"platform_token_address\"], axis = 1)"
   ]
  },
  {
   "cell_type": "code",
   "execution_count": 7,
   "metadata": {},
   "outputs": [
    {
     "data": {
      "text/plain": [
       "circulating_supply      0\n",
       "total_supply            0\n",
       "quote_usd_price         0\n",
       "quote_usd_market_cap    0\n",
       "dtype: int64"
      ]
     },
     "execution_count": 7,
     "metadata": {},
     "output_type": "execute_result"
    }
   ],
   "source": [
    "ds.isnull().sum()"
   ]
  },
  {
   "cell_type": "markdown",
   "metadata": {},
   "source": [
    "#### Randomly shuffling the dataframe "
   ]
  },
  {
   "cell_type": "code",
   "execution_count": 8,
   "metadata": {},
   "outputs": [],
   "source": [
    "ds = ds.sample(frac = 1)"
   ]
  },
  {
   "cell_type": "code",
   "execution_count": 9,
   "metadata": {},
   "outputs": [
    {
     "data": {
      "text/html": [
       "<div>\n",
       "<style scoped>\n",
       "    .dataframe tbody tr th:only-of-type {\n",
       "        vertical-align: middle;\n",
       "    }\n",
       "\n",
       "    .dataframe tbody tr th {\n",
       "        vertical-align: top;\n",
       "    }\n",
       "\n",
       "    .dataframe thead th {\n",
       "        text-align: right;\n",
       "    }\n",
       "</style>\n",
       "<table border=\"1\" class=\"dataframe\">\n",
       "  <thead>\n",
       "    <tr style=\"text-align: right;\">\n",
       "      <th></th>\n",
       "      <th>circulating_supply</th>\n",
       "      <th>total_supply</th>\n",
       "      <th>quote_usd_price</th>\n",
       "      <th>quote_usd_market_cap</th>\n",
       "    </tr>\n",
       "  </thead>\n",
       "  <tbody>\n",
       "    <tr>\n",
       "      <th>36</th>\n",
       "      <td>2.995312e+08</td>\n",
       "      <td>1.000000e+09</td>\n",
       "      <td>4.350852</td>\n",
       "      <td>1.303216e+09</td>\n",
       "    </tr>\n",
       "    <tr>\n",
       "      <th>67</th>\n",
       "      <td>1.330089e+09</td>\n",
       "      <td>1.373873e+09</td>\n",
       "      <td>0.393728</td>\n",
       "      <td>5.236930e+08</td>\n",
       "    </tr>\n",
       "    <tr>\n",
       "      <th>14</th>\n",
       "      <td>9.539541e+08</td>\n",
       "      <td>9.852395e+08</td>\n",
       "      <td>5.380376</td>\n",
       "      <td>5.132632e+09</td>\n",
       "    </tr>\n",
       "    <tr>\n",
       "      <th>91</th>\n",
       "      <td>1.230501e+10</td>\n",
       "      <td>3.770501e+10</td>\n",
       "      <td>0.026203</td>\n",
       "      <td>3.224303e+08</td>\n",
       "    </tr>\n",
       "    <tr>\n",
       "      <th>22</th>\n",
       "      <td>4.671000e+08</td>\n",
       "      <td>1.000000e+09</td>\n",
       "      <td>6.070719</td>\n",
       "      <td>2.835632e+09</td>\n",
       "    </tr>\n",
       "    <tr>\n",
       "      <th>...</th>\n",
       "      <td>...</td>\n",
       "      <td>...</td>\n",
       "      <td>...</td>\n",
       "      <td>...</td>\n",
       "    </tr>\n",
       "    <tr>\n",
       "      <th>1</th>\n",
       "      <td>1.215090e+08</td>\n",
       "      <td>1.215090e+08</td>\n",
       "      <td>1097.069843</td>\n",
       "      <td>1.330000e+11</td>\n",
       "    </tr>\n",
       "    <tr>\n",
       "      <th>31</th>\n",
       "      <td>1.036200e+09</td>\n",
       "      <td>1.385626e+09</td>\n",
       "      <td>1.511140</td>\n",
       "      <td>1.565844e+09</td>\n",
       "    </tr>\n",
       "    <tr>\n",
       "      <th>12</th>\n",
       "      <td>9.247986e+10</td>\n",
       "      <td>9.247985e+10</td>\n",
       "      <td>0.064679</td>\n",
       "      <td>5.981461e+09</td>\n",
       "    </tr>\n",
       "    <tr>\n",
       "      <th>51</th>\n",
       "      <td>1.479989e+07</td>\n",
       "      <td>1.479989e+07</td>\n",
       "      <td>55.128552</td>\n",
       "      <td>8.158967e+08</td>\n",
       "    </tr>\n",
       "    <tr>\n",
       "      <th>27</th>\n",
       "      <td>6.976339e+09</td>\n",
       "      <td>7.377578e+09</td>\n",
       "      <td>0.297609</td>\n",
       "      <td>2.076223e+09</td>\n",
       "    </tr>\n",
       "  </tbody>\n",
       "</table>\n",
       "<p>100 rows × 4 columns</p>\n",
       "</div>"
      ],
      "text/plain": [
       "    circulating_supply  total_supply  quote_usd_price  quote_usd_market_cap\n",
       "36        2.995312e+08  1.000000e+09         4.350852          1.303216e+09\n",
       "67        1.330089e+09  1.373873e+09         0.393728          5.236930e+08\n",
       "14        9.539541e+08  9.852395e+08         5.380376          5.132632e+09\n",
       "91        1.230501e+10  3.770501e+10         0.026203          3.224303e+08\n",
       "22        4.671000e+08  1.000000e+09         6.070719          2.835632e+09\n",
       "..                 ...           ...              ...                   ...\n",
       "1         1.215090e+08  1.215090e+08      1097.069843          1.330000e+11\n",
       "31        1.036200e+09  1.385626e+09         1.511140          1.565844e+09\n",
       "12        9.247986e+10  9.247985e+10         0.064679          5.981461e+09\n",
       "51        1.479989e+07  1.479989e+07        55.128552          8.158967e+08\n",
       "27        6.976339e+09  7.377578e+09         0.297609          2.076223e+09\n",
       "\n",
       "[100 rows x 4 columns]"
      ]
     },
     "execution_count": 9,
     "metadata": {},
     "output_type": "execute_result"
    }
   ],
   "source": [
    "ds.head(100)"
   ]
  },
  {
   "cell_type": "code",
   "execution_count": 10,
   "metadata": {},
   "outputs": [],
   "source": [
    "ds.reset_index(inplace = True)\n",
    "ds.drop([\"index\"], axis = 1, inplace = True)"
   ]
  },
  {
   "cell_type": "code",
   "execution_count": 11,
   "metadata": {},
   "outputs": [
    {
     "data": {
      "text/plain": [
       "Index(['circulating_supply', 'total_supply', 'quote_usd_price',\n",
       "       'quote_usd_market_cap'],\n",
       "      dtype='object')"
      ]
     },
     "execution_count": 11,
     "metadata": {},
     "output_type": "execute_result"
    }
   ],
   "source": [
    "ds.columns"
   ]
  },
  {
   "cell_type": "code",
   "execution_count": 12,
   "metadata": {},
   "outputs": [
    {
     "data": {
      "text/html": [
       "<div>\n",
       "<style scoped>\n",
       "    .dataframe tbody tr th:only-of-type {\n",
       "        vertical-align: middle;\n",
       "    }\n",
       "\n",
       "    .dataframe tbody tr th {\n",
       "        vertical-align: top;\n",
       "    }\n",
       "\n",
       "    .dataframe thead th {\n",
       "        text-align: right;\n",
       "    }\n",
       "</style>\n",
       "<table border=\"1\" class=\"dataframe\">\n",
       "  <thead>\n",
       "    <tr style=\"text-align: right;\">\n",
       "      <th></th>\n",
       "      <th>circulating_supply</th>\n",
       "      <th>total_supply</th>\n",
       "      <th>quote_usd_price</th>\n",
       "      <th>quote_usd_market_cap</th>\n",
       "    </tr>\n",
       "  </thead>\n",
       "  <tbody>\n",
       "    <tr>\n",
       "      <th>0</th>\n",
       "      <td>2.995312e+08</td>\n",
       "      <td>1.000000e+09</td>\n",
       "      <td>4.350852</td>\n",
       "      <td>1.303216e+09</td>\n",
       "    </tr>\n",
       "    <tr>\n",
       "      <th>1</th>\n",
       "      <td>1.330089e+09</td>\n",
       "      <td>1.373873e+09</td>\n",
       "      <td>0.393728</td>\n",
       "      <td>5.236930e+08</td>\n",
       "    </tr>\n",
       "    <tr>\n",
       "      <th>2</th>\n",
       "      <td>9.539541e+08</td>\n",
       "      <td>9.852395e+08</td>\n",
       "      <td>5.380376</td>\n",
       "      <td>5.132632e+09</td>\n",
       "    </tr>\n",
       "    <tr>\n",
       "      <th>3</th>\n",
       "      <td>1.230501e+10</td>\n",
       "      <td>3.770501e+10</td>\n",
       "      <td>0.026203</td>\n",
       "      <td>3.224303e+08</td>\n",
       "    </tr>\n",
       "    <tr>\n",
       "      <th>4</th>\n",
       "      <td>4.671000e+08</td>\n",
       "      <td>1.000000e+09</td>\n",
       "      <td>6.070719</td>\n",
       "      <td>2.835632e+09</td>\n",
       "    </tr>\n",
       "    <tr>\n",
       "      <th>...</th>\n",
       "      <td>...</td>\n",
       "      <td>...</td>\n",
       "      <td>...</td>\n",
       "      <td>...</td>\n",
       "    </tr>\n",
       "    <tr>\n",
       "      <th>95</th>\n",
       "      <td>1.215090e+08</td>\n",
       "      <td>1.215090e+08</td>\n",
       "      <td>1097.069843</td>\n",
       "      <td>1.330000e+11</td>\n",
       "    </tr>\n",
       "    <tr>\n",
       "      <th>96</th>\n",
       "      <td>1.036200e+09</td>\n",
       "      <td>1.385626e+09</td>\n",
       "      <td>1.511140</td>\n",
       "      <td>1.565844e+09</td>\n",
       "    </tr>\n",
       "    <tr>\n",
       "      <th>97</th>\n",
       "      <td>9.247986e+10</td>\n",
       "      <td>9.247985e+10</td>\n",
       "      <td>0.064679</td>\n",
       "      <td>5.981461e+09</td>\n",
       "    </tr>\n",
       "    <tr>\n",
       "      <th>98</th>\n",
       "      <td>1.479989e+07</td>\n",
       "      <td>1.479989e+07</td>\n",
       "      <td>55.128552</td>\n",
       "      <td>8.158967e+08</td>\n",
       "    </tr>\n",
       "    <tr>\n",
       "      <th>99</th>\n",
       "      <td>6.976339e+09</td>\n",
       "      <td>7.377578e+09</td>\n",
       "      <td>0.297609</td>\n",
       "      <td>2.076223e+09</td>\n",
       "    </tr>\n",
       "  </tbody>\n",
       "</table>\n",
       "<p>100 rows × 4 columns</p>\n",
       "</div>"
      ],
      "text/plain": [
       "    circulating_supply  total_supply  quote_usd_price  quote_usd_market_cap\n",
       "0         2.995312e+08  1.000000e+09         4.350852          1.303216e+09\n",
       "1         1.330089e+09  1.373873e+09         0.393728          5.236930e+08\n",
       "2         9.539541e+08  9.852395e+08         5.380376          5.132632e+09\n",
       "3         1.230501e+10  3.770501e+10         0.026203          3.224303e+08\n",
       "4         4.671000e+08  1.000000e+09         6.070719          2.835632e+09\n",
       "..                 ...           ...              ...                   ...\n",
       "95        1.215090e+08  1.215090e+08      1097.069843          1.330000e+11\n",
       "96        1.036200e+09  1.385626e+09         1.511140          1.565844e+09\n",
       "97        9.247986e+10  9.247985e+10         0.064679          5.981461e+09\n",
       "98        1.479989e+07  1.479989e+07        55.128552          8.158967e+08\n",
       "99        6.976339e+09  7.377578e+09         0.297609          2.076223e+09\n",
       "\n",
       "[100 rows x 4 columns]"
      ]
     },
     "execution_count": 12,
     "metadata": {},
     "output_type": "execute_result"
    }
   ],
   "source": [
    "ds.head(100)"
   ]
  },
  {
   "cell_type": "markdown",
   "metadata": {},
   "source": [
    "#### Defining dependent and independent variable as x and y"
   ]
  },
  {
   "cell_type": "code",
   "execution_count": 13,
   "metadata": {},
   "outputs": [],
   "source": [
    "x = ds[\"quote_usd_price\"]\n",
    "y = ds[\"quote_usd_market_cap\"]"
   ]
  },
  {
   "cell_type": "markdown",
   "metadata": {},
   "source": [
    "#### Splitting the dataset into training set and testing set. "
   ]
  },
  {
   "cell_type": "code",
   "execution_count": 14,
   "metadata": {},
   "outputs": [],
   "source": [
    "x_train, x_test, y_train, y_test = train_test_split(x, y, test_size=0.25)"
   ]
  },
  {
   "cell_type": "markdown",
   "metadata": {},
   "source": [
    "#### Convert text to vectors"
   ]
  },
  {
   "cell_type": "code",
   "execution_count": 15,
   "metadata": {},
   "outputs": [],
   "source": [
    "from sklearn.feature_extraction.text import TfidfVectorizer"
   ]
  },
  {
   "cell_type": "code",
   "execution_count": null,
   "metadata": {},
   "outputs": [],
   "source": [
    "# xv_train = fit.transform(x_train)\n",
    "# xv_test = transform(x_test)"
   ]
  },
  {
   "cell_type": "code",
   "execution_count": 16,
   "metadata": {},
   "outputs": [],
   "source": [
    "lab = preprocessing.LabelEncoder()\n",
    "xv_train = pd.DataFrame(lab.fit_transform(x_train), index=x_train.index) \n",
    "xv_test = x_test.values.reshape(-1, 1)\n",
    "# xv_train = pd.DataFrame(lab.fit_transform(x_train), columns=x_train.columns, index=x_train.index)  "
   ]
  },
  {
   "cell_type": "markdown",
   "metadata": {},
   "source": [
    "### 1. Linear Regression"
   ]
  },
  {
   "cell_type": "code",
   "execution_count": 17,
   "metadata": {},
   "outputs": [],
   "source": [
    "from sklearn.linear_model import LinearRegression"
   ]
  },
  {
   "cell_type": "code",
   "execution_count": 18,
   "metadata": {},
   "outputs": [],
   "source": [
    "# xv_train.shape  \n",
    "# xv_train = xv_train.values.reshape(-1, 1)  \n",
    "# xv_train = xv_train.transpose()  "
   ]
  },
  {
   "cell_type": "code",
   "execution_count": 19,
   "metadata": {},
   "outputs": [
    {
     "data": {
      "text/plain": [
       "LinearRegression()"
      ]
     },
     "execution_count": 19,
     "metadata": {},
     "output_type": "execute_result"
    }
   ],
   "source": [
    "LR = LinearRegression()\n",
    "LR.fit(xv_train.values.reshape(-1, 1), y_train)  "
   ]
  },
  {
   "cell_type": "code",
   "execution_count": 20,
   "metadata": {},
   "outputs": [],
   "source": [
    "pred_lr=LR.predict(xv_test)"
   ]
  },
  {
   "cell_type": "code",
   "execution_count": 23,
   "metadata": {},
   "outputs": [
    {
     "data": {
      "text/plain": [
       "array([-8.95026642e+09, -2.08811774e+09,  1.77377470e+10, -7.05312114e+09,\n",
       "       -6.57257511e+09, -8.54044130e+09, -8.49004185e+09, -9.26183916e+09,\n",
       "        2.87434522e+10, -9.16916211e+09,  8.93360944e+09, -5.99873596e+09,\n",
       "       -9.40598927e+09, -8.95041351e+09, -9.28615207e+09, -9.37329879e+09,\n",
       "       -9.39277115e+09,  4.64812307e+11, -4.57771297e+09, -6.84822005e+09,\n",
       "       -8.92457348e+09, -9.40704882e+09,  5.12571216e+10, -5.83584775e+09,\n",
       "       -9.24488169e+09])"
      ]
     },
     "execution_count": 23,
     "metadata": {},
     "output_type": "execute_result"
    }
   ],
   "source": [
    "pred_lr"
   ]
  },
  {
   "cell_type": "code",
   "execution_count": 24,
   "metadata": {},
   "outputs": [
    {
     "data": {
      "text/plain": [
       "-641.1189043418884"
      ]
     },
     "execution_count": 24,
     "metadata": {},
     "output_type": "execute_result"
    }
   ],
   "source": [
    "LR.score(xv_test, y_test)"
   ]
  },
  {
   "cell_type": "markdown",
   "metadata": {},
   "source": [
    "#### Visualising the Linear Regression Results"
   ]
  },
  {
   "cell_type": "code",
   "execution_count": 25,
   "metadata": {},
   "outputs": [
    {
     "data": {
      "image/png": "[encoded data removed]",
      "text/plain": [
       "<Figure size 640x480 with 1 Axes>"
      ]
     },
     "metadata": {},
     "output_type": "display_data"
    }
   ],
   "source": [
    "X_grid = np.arange(min(x), max(x), 10)\n",
    "X_grid = X_grid.reshape((len(X_grid), 1))\n",
    "plt.scatter(xv_test, y_test, color = 'red')\n",
    "plt.scatter(xv_test, pred_lr, color = 'green')\n",
    "plt.title('Linear Regression')\n",
    "plt.xlabel('Price in USD')\n",
    "plt.ylabel('Predicted Value')\n",
    "plt.show()"
   ]
  },
  {
   "cell_type": "code",
   "execution_count": 26,
   "metadata": {},
   "outputs": [
    {
     "data": {
      "image/png": "[encoded data removed]",
      "text/plain": [
       "<Figure size 640x480 with 1 Axes>"
      ]
     },
     "metadata": {},
     "output_type": "display_data"
    }
   ],
   "source": [
    "plt.plot(X_grid, LR.predict(X_grid), color = 'black')\n",
    "plt.title('Linear Regression')\n",
    "plt.xlabel('Price in USD')\n",
    "plt.ylabel('Predicted Value')\n",
    "plt.show()"
   ]
  },
  {
   "cell_type": "markdown",
   "metadata": {},
   "source": [
    "### 2. Decision Tree Regressor"
   ]
  },
  {
   "cell_type": "code",
   "execution_count": 27,
   "metadata": {},
   "outputs": [],
   "source": [
    "from sklearn.tree import DecisionTreeRegressor"
   ]
  },
  {
   "cell_type": "code",
   "execution_count": 28,
   "metadata": {},
   "outputs": [
    {
     "data": {
      "text/plain": [
       "DecisionTreeRegressor()"
      ]
     },
     "execution_count": 28,
     "metadata": {},
     "output_type": "execute_result"
    }
   ],
   "source": [
    "DT = DecisionTreeRegressor()\n",
    "DT.fit(xv_train.values.reshape(-1, 1), y_train)"
   ]
  },
  {
   "cell_type": "code",
   "execution_count": 29,
   "metadata": {},
   "outputs": [],
   "source": [
    "pred_dt = DT.predict(xv_test)"
   ]
  },
  {
   "cell_type": "code",
   "execution_count": 30,
   "metadata": {},
   "outputs": [
    {
     "data": {
      "text/plain": [
       "array([7.34226923e+08, 6.47099363e+08, 4.06582139e+09, 4.80109346e+08,\n",
       "       3.42705358e+08, 3.72303791e+08, 3.72303791e+08, 5.67635396e+09,\n",
       "       3.67506491e+10, 5.67635396e+09, 1.75419324e+10, 4.61230834e+08,\n",
       "       5.67635396e+09, 7.34226923e+08, 5.67635396e+09, 5.67635396e+09,\n",
       "       5.67635396e+09, 3.81000000e+11, 1.28168518e+09, 3.42705358e+08,\n",
       "       7.34226923e+08, 5.67635396e+09, 3.81000000e+11, 3.37860130e+08,\n",
       "       5.67635396e+09])"
      ]
     },
     "execution_count": 30,
     "metadata": {},
     "output_type": "execute_result"
    }
   ],
   "source": [
    "pred_dt"
   ]
  },
  {
   "cell_type": "code",
   "execution_count": 31,
   "metadata": {},
   "outputs": [
    {
     "data": {
      "text/plain": [
       "-843.5718857732685"
      ]
     },
     "execution_count": 31,
     "metadata": {},
     "output_type": "execute_result"
    }
   ],
   "source": [
    "DT.score(xv_test, y_test)"
   ]
  },
  {
   "cell_type": "code",
   "execution_count": 32,
   "metadata": {},
   "outputs": [],
   "source": [
    "# print(classification_report(y_test, pred_dt))"
   ]
  },
  {
   "cell_type": "markdown",
   "metadata": {},
   "source": [
    "#### Visualising the Decision Tree Regression Results"
   ]
  },
  {
   "cell_type": "code",
   "execution_count": 33,
   "metadata": {},
   "outputs": [
    {
     "data": {
      "image/png": "[encoded data removed]",
      "text/plain": [
       "<Figure size 640x480 with 1 Axes>"
      ]
     },
     "metadata": {},
     "output_type": "display_data"
    }
   ],
   "source": [
    "X_grid = np.arange(min(x), max(x), 10)\n",
    "X_grid = X_grid.reshape((len(X_grid), 1))\n",
    "plt.scatter(xv_test, y_test, color = 'red')\n",
    "plt.scatter(xv_test, pred_dt, color = 'green')\n",
    "plt.title('Decision Tree Regression')\n",
    "plt.xlabel('Price in USD')\n",
    "plt.ylabel('Predicted Value')\n",
    "plt.show()"
   ]
  },
  {
   "cell_type": "code",
   "execution_count": 34,
   "metadata": {},
   "outputs": [
    {
     "data": {
      "image/png": "[encoded data removed]",
      "text/plain": [
       "<Figure size 640x480 with 1 Axes>"
      ]
     },
     "metadata": {},
     "output_type": "display_data"
    }
   ],
   "source": [
    "plt.plot(X_grid, DT.predict(X_grid), color = 'black')\n",
    "plt.title('Decision Tree Regression')\n",
    "plt.xlabel('Price in USD')\n",
    "plt.ylabel('Predicted Value')\n",
    "plt.show()"
   ]
  },
  {
   "cell_type": "markdown",
   "metadata": {},
   "source": [
    "### 3. Stochastic Gradient Descent (SGD) Regressor"
   ]
  },
  {
   "cell_type": "code",
   "execution_count": 35,
   "metadata": {},
   "outputs": [],
   "source": [
    "from sklearn.linear_model import SGDRegressor"
   ]
  },
  {
   "cell_type": "code",
   "execution_count": 36,
   "metadata": {},
   "outputs": [
    {
     "data": {
      "text/plain": [
       "SGDRegressor(random_state=0)"
      ]
     },
     "execution_count": 36,
     "metadata": {},
     "output_type": "execute_result"
    }
   ],
   "source": [
    "SGD = SGDRegressor(random_state=0)\n",
    "SGD.fit(xv_train, y_train)"
   ]
  },
  {
   "cell_type": "code",
   "execution_count": 37,
   "metadata": {},
   "outputs": [],
   "source": [
    "pred_sgd = SGD.predict(xv_test)"
   ]
  },
  {
   "cell_type": "code",
   "execution_count": 38,
   "metadata": {},
   "outputs": [
    {
     "data": {
      "text/plain": [
       "array([-1.49314405e+10,  4.72900847e+10,  2.27058201e+11,  2.27064568e+09,\n",
       "        6.62792620e+09, -1.12154114e+10, -1.07584218e+10, -1.77565806e+10,\n",
       "        3.26850817e+11, -1.69162450e+10,  1.47227977e+11,  1.18311284e+10,\n",
       "       -1.90636406e+10, -1.49327742e+10, -1.79770343e+10, -1.87672244e+10,\n",
       "       -1.89437872e+10,  4.28084111e+12,  2.47160457e+10,  4.12855618e+09,\n",
       "       -1.46984735e+10, -1.90732478e+10,  5.30990207e+11,  1.33080933e+10,\n",
       "       -1.76028212e+10])"
      ]
     },
     "execution_count": 38,
     "metadata": {},
     "output_type": "execute_result"
    }
   ],
   "source": [
    "pred_sgd"
   ]
  },
  {
   "cell_type": "code",
   "execution_count": 39,
   "metadata": {},
   "outputs": [
    {
     "data": {
      "text/plain": [
       "-54504.50177924367"
      ]
     },
     "execution_count": 39,
     "metadata": {},
     "output_type": "execute_result"
    }
   ],
   "source": [
    "SGD.score(xv_test, y_test)"
   ]
  },
  {
   "cell_type": "code",
   "execution_count": 40,
   "metadata": {},
   "outputs": [],
   "source": [
    "# print(classification_report(y_test, pred_sgd))"
   ]
  },
  {
   "cell_type": "markdown",
   "metadata": {},
   "source": [
    "#### Visualising the Stochastic Gradient Descent (SGD) Regression Results"
   ]
  },
  {
   "cell_type": "code",
   "execution_count": 39,
   "metadata": {},
   "outputs": [
    {
     "data": {
      "image/png": "[encoded data removed]",
      "text/plain": [
       "<Figure size 432x288 with 1 Axes>"
      ]
     },
     "metadata": {
      "needs_background": "light"
     },
     "output_type": "display_data"
    }
   ],
   "source": [
    "X_grid = np.arange(min(x), max(x), 10)\n",
    "X_grid = X_grid.reshape((len(X_grid), 1))\n",
    "plt.scatter(xv_test, y_test, color = 'red')\n",
    "plt.scatter(xv_test, pred_sgd, color = 'green')\n",
    "plt.title('SGD Regression')\n",
    "plt.xlabel('Price in USD')\n",
    "plt.ylabel('Predicted Value')\n",
    "plt.show()"
   ]
  },
  {
   "cell_type": "code",
   "execution_count": 40,
   "metadata": {},
   "outputs": [
    {
     "data": {
      "image/png": "[encoded data removed]",
      "text/plain": [
       "<Figure size 432x288 with 1 Axes>"
      ]
     },
     "metadata": {
      "needs_background": "light"
     },
     "output_type": "display_data"
    }
   ],
   "source": [
    "plt.plot(X_grid, SGD.predict(X_grid), color = 'black')\n",
    "plt.title('SGD Regression')\n",
    "plt.xlabel('Price in USD')\n",
    "plt.ylabel('Predicted Value')\n",
    "plt.show()"
   ]
  },
  {
   "cell_type": "markdown",
   "metadata": {},
   "source": [
    "### 4. Bayesian Ridge"
   ]
  },
  {
   "cell_type": "code",
   "execution_count": 41,
   "metadata": {},
   "outputs": [],
   "source": [
    "from sklearn.linear_model import BayesianRidge"
   ]
  },
  {
   "cell_type": "code",
   "execution_count": 42,
   "metadata": {},
   "outputs": [
    {
     "data": {
      "text/plain": [
       "BayesianRidge()"
      ]
     },
     "execution_count": 42,
     "metadata": {},
     "output_type": "execute_result"
    }
   ],
   "source": [
    "BR = BayesianRidge()\n",
    "BR.fit(xv_train, y_train)"
   ]
  },
  {
   "cell_type": "code",
   "execution_count": 43,
   "metadata": {},
   "outputs": [],
   "source": [
    "pred_br = BR.predict(xv_test)"
   ]
  },
  {
   "cell_type": "code",
   "execution_count": 44,
   "metadata": {},
   "outputs": [
    {
     "data": {
      "text/plain": [
       "array([3.83816593e+09, 3.83816593e+09, 3.83816593e+09, 3.83816593e+09,\n",
       "       3.83816593e+09, 3.83816593e+09, 3.83816593e+09, 3.83816593e+09,\n",
       "       3.83816593e+09, 3.83816593e+09, 3.83816593e+09, 3.83816593e+09,\n",
       "       3.83816593e+09, 3.83816593e+09, 3.83816593e+09, 3.83816593e+09,\n",
       "       3.83816593e+09, 3.83816593e+09, 3.83816593e+09, 3.83816593e+09,\n",
       "       3.83816593e+09, 3.83816593e+09, 3.83816593e+09, 3.83816593e+09,\n",
       "       3.83816593e+09])"
      ]
     },
     "execution_count": 44,
     "metadata": {},
     "output_type": "execute_result"
    }
   ],
   "source": [
    "pred_br"
   ]
  },
  {
   "cell_type": "code",
   "execution_count": 45,
   "metadata": {},
   "outputs": [
    {
     "data": {
      "text/plain": [
       "-0.061614942126431815"
      ]
     },
     "execution_count": 45,
     "metadata": {},
     "output_type": "execute_result"
    }
   ],
   "source": [
    "BR.score(xv_test, y_test)"
   ]
  },
  {
   "cell_type": "code",
   "execution_count": 46,
   "metadata": {
    "scrolled": true
   },
   "outputs": [],
   "source": [
    "# print(classification_report(y_test, pred_br))"
   ]
  },
  {
   "cell_type": "markdown",
   "metadata": {},
   "source": [
    "#### Visualising the Bayesian Ridge Results"
   ]
  },
  {
   "cell_type": "code",
   "execution_count": 47,
   "metadata": {},
   "outputs": [
    {
     "data": {
      "image/png": "[encoded data removed]",
      "text/plain": [
       "<Figure size 432x288 with 1 Axes>"
      ]
     },
     "metadata": {
      "needs_background": "light"
     },
     "output_type": "display_data"
    }
   ],
   "source": [
    "X_grid = np.arange(min(x), max(x), 10)\n",
    "X_grid = X_grid.reshape((len(X_grid), 1))\n",
    "plt.scatter(xv_test, y_test, color = 'red')\n",
    "plt.scatter(xv_test, pred_br, color = 'green')\n",
    "plt.title('Bayesian Ridge')\n",
    "plt.xlabel('Price in USD')\n",
    "plt.ylabel('Predicted Value')\n",
    "plt.show()"
   ]
  },
  {
   "cell_type": "code",
   "execution_count": 48,
   "metadata": {},
   "outputs": [
    {
     "data": {
      "image/png": "[encoded data removed]",
      "text/plain": [
       "<Figure size 432x288 with 1 Axes>"
      ]
     },
     "metadata": {
      "needs_background": "light"
     },
     "output_type": "display_data"
    }
   ],
   "source": [
    "plt.plot(X_grid, BR.predict(X_grid), color = 'black')\n",
    "plt.title('Bayesian Ridge')\n",
    "plt.xlabel('Price in USD')\n",
    "plt.ylabel('Predicted Value')\n",
    "plt.show()"
   ]
  },
  {
   "cell_type": "code",
   "execution_count": null,
   "metadata": {},
   "outputs": [],
   "source": []
  }
 ],
 "metadata": {
  "kernelspec": {
   "display_name": "Python 3",
   "language": "python",
   "name": "python3"
  },
  "language_info": {
   "codemirror_mode": {
    "name": "ipython",
    "version": 3
   },
   "file_extension": ".py",
   "mimetype": "text/x-python",
   "name": "python",
   "nbconvert_exporter": "python",
   "pygments_lexer": "ipython3",
   "version": "3.7.1"
  }
 },
 "nbformat": 4,
 "nbformat_minor": 2
}
